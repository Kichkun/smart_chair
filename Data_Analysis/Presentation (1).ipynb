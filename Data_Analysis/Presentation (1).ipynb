{
 "cells": [
  {
   "cell_type": "markdown",
   "metadata": {
    "colab_type": "text",
    "id": "Zdu-Uw1KUQLM",
    "slideshow": {
     "slide_type": "slide"
    }
   },
   "source": [
    "# Introduction to Data Science \n",
    "\n",
    "## Final project: Data analysis for SMART CHAIR devise\n",
    "\n",
    "Team:\n",
    "1.  A.Kishkun\n",
    "2.  R.Shaniiazov\n",
    "3.  O.Rusanova\n",
    "\n",
    "\n",
    "\n"
   ]
  },
  {
   "cell_type": "markdown",
   "metadata": {
    "colab_type": "text",
    "id": "nggHaxKfojNR",
    "slideshow": {
     "slide_type": "slide"
    }
   },
   "source": [
    "##  SMART CHAIR*\n",
    "### Project description\n",
    "\n",
    "Today IoT is wildly used technology. There are smart house, smart offices, smart watch and such devises become normal for our everyday life. \n",
    "Smart chair can be very good example of IoT technology convenient. It can be used in HR offices for stress resisting detection, in cybersport for understanding reactions, in clinical departments for detection physiological and psychological behavior.  \n",
    "\n",
    "\n",
    "\n",
    "\n",
    "\n",
    "\n",
    "---\n",
    "\n",
    "\n",
    "*The problem for Introduction to Data science project come as part of the  project for Introduction to Internet of Things (IoT) course. "
   ]
  },
  {
   "cell_type": "markdown",
   "metadata": {
    "slideshow": {
     "slide_type": "slide"
    }
   },
   "source": [
    "### Prototype of Smart Chair \n",
    "It consist of:\n",
    "1. Simple office chair \n",
    "2. Raspberry Pi\n",
    "3. Accelerometer \n",
    "4. Magnetometer\n",
    "\n",
    "<div style=\"float:right;margin:0 10px 10px 0\" markdown=\"1\">\n",
    "    <img src=\"https://raw.github.com/Kichkun/smart_chair/master/Data_Analysis/pic/SC3.jpg\" width=\"300\" height=\"150\"/>\n",
    "</div>\n",
    "\n",
    "\n",
    "Data from sensor was collected and was used for people behavior estimation.\n"
   ]
  },
  {
   "cell_type": "markdown",
   "metadata": {
    "colab_type": "text",
    "id": "Vdyyh7UapA0D",
    "slideshow": {
     "slide_type": "slide"
    }
   },
   "source": [
    "### Problem statement\n",
    "Using the machine learning for people stress level classification with using data from accelerometer and magnetometer.\n",
    "\n",
    "### Problem statement definition\n",
    "Existing technology for stress level detection use contact approach for measurement, what, obviously, not the best solution for independent investigation. The using of ML can provide contactless approach for solving this kind of tasks. It will allow increasing quality of such investigation, and devises with that technology can be used in banks, restaurants, offices and hospitals etc.\n",
    "\n"
   ]
  },
  {
   "cell_type": "markdown",
   "metadata": {
    "slideshow": {
     "slide_type": "slide"
    }
   },
   "source": [
    "#### Prototype\n",
    "\n",
    "\n",
    "<div style=\"float:right\">\n",
    "    <img src=\"https://raw.github.com/Kichkun/smart_chair/master/Data_Analysis/pic/SC4.jpg\" width=\"750\" height=\"550\" />\n",
    "</div>\n",
    "\n"
   ]
  },
  {
   "cell_type": "markdown",
   "metadata": {
    "colab_type": "text",
    "id": "Yf2_hy2aL6EB",
    "slideshow": {
     "slide_type": "slide"
    }
   },
   "source": [
    "### Data collection \n",
    "Data collection is one of the main problem we faced. \n",
    "\n",
    "  \n",
    "\n",
    "\n",
    "\n",
    "\n",
    "\n",
    "\n"
   ]
  },
  {
   "cell_type": "markdown",
   "metadata": {
    "slideshow": {
     "slide_type": "slide"
    }
   },
   "source": [
    "1) Hardware problem: everytime something happened with hardware\n",
    "\n",
    "\n",
    "*  Power was broken \n",
    "*  Power connection was poor\n",
    "*  The smart chair was disassembled after fast movement \n",
    "\n",
    "<div style=\"float:right;margin:0 10px 10px 0\" markdown=\"1\">\n",
    "    <img src=\"https://raw.github.com/Kichkun/smart_chair/master/Data_Analysis/pic/SC2.jpg\" width=\"350\" height=\"150\" />\n",
    "</div>\n",
    "\n"
   ]
  },
  {
   "cell_type": "markdown",
   "metadata": {
    "colab_type": "text",
    "id": "J2w1CrDEpvT3",
    "slideshow": {
     "slide_type": "slide"
    }
   },
   "source": [
    "\n",
    " 2) Orginazation of  stress conditions  for test persons was challenging.\n",
    "\n",
    " \n",
    "*   scary video demonstation *\n",
    "*   talking about DS course deadlines \n",
    "\n",
    "*videos are attached"
   ]
  },
  {
   "cell_type": "markdown",
   "metadata": {
    "slideshow": {
     "slide_type": "slide"
    }
   },
   "source": [
    "\n",
    "3) Safety of Smart Chair devise: there are not many chairs in Masterskay\n",
    "\n",
    "\n",
    "<div style=\"float:right\">\n",
    "    <img src=\"https://raw.github.com/Kichkun/smart_chair/master/Data_Analysis/pic/SC1.jpg\" width=\"450\" height=\"250\" />\n",
    "\n",
    "</div>\n",
    "\n",
    "---"
   ]
  },
  {
   "cell_type": "code",
   "execution_count": 1,
   "metadata": {
    "colab": {},
    "colab_type": "code",
    "id": "JbapGvAMR5sq",
    "slideshow": {
     "slide_type": "skip"
    }
   },
   "outputs": [],
   "source": [
    "import numpy as np\n",
    "import pandas as pd\n",
    "import seaborn as sns\n",
    "import matplotlib.pyplot as plt\n",
    "%matplotlib inline\n",
    "from matplotlib.patches import Ellipse\n",
    "import warnings\n",
    "warnings.filterwarnings(action='ignore') #to ignore not important warnings"
   ]
  },
  {
   "cell_type": "markdown",
   "metadata": {
    "colab_type": "text",
    "id": "8CKqwKGb3T8J",
    "slideshow": {
     "slide_type": "slide"
    }
   },
   "source": [
    "## Loading the data"
   ]
  },
  {
   "cell_type": "code",
   "execution_count": 2,
   "metadata": {
    "colab": {},
    "colab_type": "code",
    "id": "8-FHIvt6R5su",
    "slideshow": {
     "slide_type": "-"
    }
   },
   "outputs": [],
   "source": [
    "df_acc_0 = pd.read_csv('https://raw.github.com/Kichkun/smart_chair/master/Data_Analysis/data/accelerometer.csv')\n",
    "df_acc_1 = pd.read_csv('https://raw.github.com/Kichkun/smart_chair/master/Data_Analysis/data/accelerometer1.csv')\n",
    "df_acc_2 = pd.read_csv('https://raw.github.com/Kichkun/smart_chair/master/Data_Analysis/data/accelerometer2.csv')\n",
    "df_acc_3 = pd.read_csv('https://raw.github.com/Kichkun/smart_chair/master/Data_Analysis/data/accelerometer3.csv')\n",
    "\n",
    "df_mag_0 = pd.read_csv('https://raw.github.com/Kichkun/smart_chair/master/Data_Analysis/data/magnetometer.csv')\n",
    "df_mag_1 = pd.read_csv('https://raw.github.com/Kichkun/smart_chair/master/Data_Analysis/data/magnetometer1.csv')\n",
    "df_mag_2 = pd.read_csv('https://raw.github.com/Kichkun/smart_chair/master/Data_Analysis/data/magnetometer2.csv')\n",
    "df_mag_3 = pd.read_csv('https://raw.github.com/Kichkun/smart_chair/master/Data_Analysis/data/magnetometer3.csv')\n",
    "\n",
    "df_0 = df_mag_0.join(df_acc_0[['ax', 'ay', 'az']])\n",
    "df_1 = df_mag_1.join(df_acc_1[['ax', 'ay', 'az']])\n",
    "df_2 = df_mag_2.join(df_acc_2[['ax', 'ay', 'az']])\n",
    "df_3 = df_mag_3.join(df_acc_3[['ax', 'ay', 'az']])\n"
   ]
  },
  {
   "cell_type": "markdown",
   "metadata": {
    "colab_type": "text",
    "id": "1YnaWlWK3xJX",
    "slideshow": {
     "slide_type": "slide"
    }
   },
   "source": [
    "## Dataset preparation"
   ]
  },
  {
   "cell_type": "markdown",
   "metadata": {
    "colab_type": "text",
    "id": "sssuYuKA385d",
    "slideshow": {
     "slide_type": "slide"
    }
   },
   "source": [
    "### Dropping useless columns and columns encoding"
   ]
  },
  {
   "cell_type": "code",
   "execution_count": 3,
   "metadata": {
    "colab": {},
    "colab_type": "code",
    "id": "nuuS___TR5sy",
    "slideshow": {
     "slide_type": "-"
    }
   },
   "outputs": [],
   "source": [
    "columns2drop = ['meta_info', 'type_sensor','id','date_created']\n",
    "\n",
    "rename_dict = {\n",
    "    'x': 'Mag_x',\n",
    "    'y': 'Mag_y',\n",
    "    'z': 'Mag_z',\n",
    "    'ax': 'Acc_x',\n",
    "    'ay': 'Acc_y',\n",
    "    'az': 'Acc_z',\n",
    "}"
   ]
  },
  {
   "cell_type": "code",
   "execution_count": 4,
   "metadata": {
    "colab": {},
    "colab_type": "code",
    "id": "0xue0BAgR5s2",
    "slideshow": {
     "slide_type": "-"
    }
   },
   "outputs": [],
   "source": [
    "for df in [df_0, df_1, df_2,df_3]:\n",
    "    df.drop(columns2drop, axis=1, inplace=True, errors='ignore')\n",
    "    df.rename(columns=rename_dict, inplace=True)"
   ]
  },
  {
   "cell_type": "markdown",
   "metadata": {
    "colab_type": "text",
    "id": "RJWLVwbb4ubJ",
    "slideshow": {
     "slide_type": "slide"
    }
   },
   "source": [
    "### Making dataset"
   ]
  },
  {
   "cell_type": "code",
   "execution_count": 5,
   "metadata": {
    "colab": {},
    "colab_type": "code",
    "id": "EXiDrwDcR5tB",
    "slideshow": {
     "slide_type": "skip"
    }
   },
   "outputs": [],
   "source": [
    "data = df_0.append(df_1)\n",
    "data=data.append(df_2)\n",
    "data=data.append(df_3)"
   ]
  },
  {
   "cell_type": "code",
   "execution_count": 6,
   "metadata": {
    "colab": {
     "base_uri": "https://localhost:8080/",
     "height": 206
    },
    "colab_type": "code",
    "id": "P4NsSgxNR5tO",
    "outputId": "5b7e686e-89bc-41a0-f053-1d4bb078604f",
    "slideshow": {
     "slide_type": "-"
    }
   },
   "outputs": [
    {
     "data": {
      "text/html": [
       "<div>\n",
       "<style scoped>\n",
       "    .dataframe tbody tr th:only-of-type {\n",
       "        vertical-align: middle;\n",
       "    }\n",
       "\n",
       "    .dataframe tbody tr th {\n",
       "        vertical-align: top;\n",
       "    }\n",
       "\n",
       "    .dataframe thead th {\n",
       "        text-align: right;\n",
       "    }\n",
       "</style>\n",
       "<table border=\"1\" class=\"dataframe\">\n",
       "  <thead>\n",
       "    <tr style=\"text-align: right;\">\n",
       "      <th></th>\n",
       "      <th>label</th>\n",
       "      <th>people_id</th>\n",
       "      <th>Mag_x</th>\n",
       "      <th>Mag_y</th>\n",
       "      <th>Mag_z</th>\n",
       "      <th>Acc_x</th>\n",
       "      <th>Acc_y</th>\n",
       "      <th>Acc_z</th>\n",
       "    </tr>\n",
       "  </thead>\n",
       "  <tbody>\n",
       "    <tr>\n",
       "      <th>0</th>\n",
       "      <td>MagLaBeL</td>\n",
       "      <td>peopleID</td>\n",
       "      <td>1288</td>\n",
       "      <td>-4376</td>\n",
       "      <td>5602</td>\n",
       "      <td>0</td>\n",
       "      <td>1568</td>\n",
       "      <td>0</td>\n",
       "    </tr>\n",
       "    <tr>\n",
       "      <th>1</th>\n",
       "      <td>MagLaBeL</td>\n",
       "      <td>peopleID</td>\n",
       "      <td>1246</td>\n",
       "      <td>-4383</td>\n",
       "      <td>5629</td>\n",
       "      <td>5056</td>\n",
       "      <td>704</td>\n",
       "      <td>16000</td>\n",
       "    </tr>\n",
       "    <tr>\n",
       "      <th>2</th>\n",
       "      <td>MagLaBeL</td>\n",
       "      <td>peopleID</td>\n",
       "      <td>1305</td>\n",
       "      <td>-4384</td>\n",
       "      <td>5607</td>\n",
       "      <td>5024</td>\n",
       "      <td>720</td>\n",
       "      <td>16000</td>\n",
       "    </tr>\n",
       "    <tr>\n",
       "      <th>3</th>\n",
       "      <td>MagLaBeL</td>\n",
       "      <td>peopleID</td>\n",
       "      <td>1601</td>\n",
       "      <td>-4958</td>\n",
       "      <td>5573</td>\n",
       "      <td>5088</td>\n",
       "      <td>784</td>\n",
       "      <td>16000</td>\n",
       "    </tr>\n",
       "    <tr>\n",
       "      <th>4</th>\n",
       "      <td>MagLaBeL</td>\n",
       "      <td>peopleID</td>\n",
       "      <td>1688</td>\n",
       "      <td>-5073</td>\n",
       "      <td>5612</td>\n",
       "      <td>5088</td>\n",
       "      <td>784</td>\n",
       "      <td>16016</td>\n",
       "    </tr>\n",
       "  </tbody>\n",
       "</table>\n",
       "</div>"
      ],
      "text/plain": [
       "      label people_id  Mag_x  Mag_y  Mag_z  Acc_x  Acc_y  Acc_z\n",
       "0  MagLaBeL  peopleID   1288  -4376   5602      0   1568      0\n",
       "1  MagLaBeL  peopleID   1246  -4383   5629   5056    704  16000\n",
       "2  MagLaBeL  peopleID   1305  -4384   5607   5024    720  16000\n",
       "3  MagLaBeL  peopleID   1601  -4958   5573   5088    784  16000\n",
       "4  MagLaBeL  peopleID   1688  -5073   5612   5088    784  16016"
      ]
     },
     "execution_count": 6,
     "metadata": {},
     "output_type": "execute_result"
    }
   ],
   "source": [
    "data.head()"
   ]
  },
  {
   "cell_type": "markdown",
   "metadata": {
    "colab_type": "text",
    "id": "9-eQ3DQS_hPs",
    "slideshow": {
     "slide_type": "slide"
    }
   },
   "source": [
    "\n",
    "### Removal of incomplete data"
   ]
  },
  {
   "cell_type": "code",
   "execution_count": 7,
   "metadata": {
    "colab": {
     "base_uri": "https://localhost:8080/",
     "height": 243
    },
    "colab_type": "code",
    "id": "yjcHJ_mxR5tT",
    "outputId": "b3f0f732-561f-4354-d6ad-3e266c7e8e1e",
    "slideshow": {
     "slide_type": "-"
    }
   },
   "outputs": [
    {
     "name": "stdout",
     "output_type": "stream",
     "text": [
      "<class 'pandas.core.frame.DataFrame'>\n",
      "Int64Index: 30359 entries, 0 to 8999\n",
      "Data columns (total 8 columns):\n",
      "label        30359 non-null object\n",
      "people_id    29685 non-null object\n",
      "Mag_x        30359 non-null int64\n",
      "Mag_y        30359 non-null int64\n",
      "Mag_z        30359 non-null int64\n",
      "Acc_x        30359 non-null int64\n",
      "Acc_y        30359 non-null int64\n",
      "Acc_z        30359 non-null int64\n",
      "dtypes: int64(6), object(2)\n",
      "memory usage: 2.1+ MB\n"
     ]
    }
   ],
   "source": [
    "data.info()"
   ]
  },
  {
   "cell_type": "code",
   "execution_count": 8,
   "metadata": {
    "colab": {},
    "colab_type": "code",
    "id": "TcrCx0IaR5ta",
    "slideshow": {
     "slide_type": "-"
    }
   },
   "outputs": [],
   "source": [
    "data = data.dropna()"
   ]
  },
  {
   "cell_type": "code",
   "execution_count": 9,
   "metadata": {
    "colab": {
     "base_uri": "https://localhost:8080/",
     "height": 243
    },
    "colab_type": "code",
    "id": "H_BpK9rnR5te",
    "outputId": "b5e0d865-041d-4c5f-e2ef-b276dde22c66",
    "slideshow": {
     "slide_type": "skip"
    }
   },
   "outputs": [
    {
     "name": "stdout",
     "output_type": "stream",
     "text": [
      "<class 'pandas.core.frame.DataFrame'>\n",
      "Int64Index: 29685 entries, 0 to 8999\n",
      "Data columns (total 8 columns):\n",
      "label        29685 non-null object\n",
      "people_id    29685 non-null object\n",
      "Mag_x        29685 non-null int64\n",
      "Mag_y        29685 non-null int64\n",
      "Mag_z        29685 non-null int64\n",
      "Acc_x        29685 non-null int64\n",
      "Acc_y        29685 non-null int64\n",
      "Acc_z        29685 non-null int64\n",
      "dtypes: int64(6), object(2)\n",
      "memory usage: 2.0+ MB\n"
     ]
    }
   ],
   "source": [
    "data.info()"
   ]
  },
  {
   "cell_type": "markdown",
   "metadata": {
    "colab_type": "text",
    "id": "EAS1qMaDBdlf",
    "slideshow": {
     "slide_type": "slide"
    }
   },
   "source": [
    "\n",
    "### Removal data with useless labels\n",
    "For test samples marking some independent source was required.  Measurement source - Mobile Application like \"Stress test\" was chosen, and measure from 0 to 100 was chosen as a measurement "
   ]
  },
  {
   "cell_type": "code",
   "execution_count": 10,
   "metadata": {
    "colab": {
     "base_uri": "https://localhost:8080/",
     "height": 191
    },
    "colab_type": "code",
    "id": "TBtIWuI-R5tk",
    "outputId": "c722aaf4-0851-4fe9-e1b6-646dab2cd6d4",
    "slideshow": {
     "slide_type": "-"
    }
   },
   "outputs": [
    {
     "name": "stdout",
     "output_type": "stream",
     "text": [
      "['MagLaBeL' 'usual sitting' 'standart sitting, sample rolling 0'\n",
      " 'random moving, straight posture 0' 'just sitting, straight posture 0'\n",
      " 'usual sitting 1' 'angry sitting 0' 'usual table sitting 0'\n",
      " 'angry table sitting 0' 'usual table sitting 1'\n",
      " 'usual nontable sitting 1' 'usual nontable sitting 2'\n",
      " 'usual nontable sitting 3' 'work, talking, tired, angry'\n",
      " 'work, talking, tired' '100' '87' '65' '80' '63' '0' 60 5 99 30 48]\n",
      "['100' '87' '65' '80' '63' '0' 60 5 99 30 48]\n"
     ]
    }
   ],
   "source": [
    "lab = data['label'].unique()\n",
    "a = (np.where(lab == '100'))[0][0]\n",
    "lab1 = lab[:a]\n",
    "lab2 = lab[a:]\n",
    "print(lab)\n",
    "print(lab2)"
   ]
  },
  {
   "cell_type": "code",
   "execution_count": 11,
   "metadata": {
    "colab": {
     "base_uri": "https://localhost:8080/",
     "height": 1007
    },
    "colab_type": "code",
    "id": "nSbAYtwgt558",
    "outputId": "22f7d370-f318-455d-bb7b-64f3af0ef716",
    "slideshow": {
     "slide_type": "skip"
    }
   },
   "outputs": [
    {
     "name": "stdout",
     "output_type": "stream",
     "text": [
      "                                    people_id  Mag_x  Mag_y  Mag_z  Acc_x  \\\n",
      "label                                                                       \n",
      "5                                        1800   1800   1800   1800   1800   \n",
      "30                                       1800   1800   1800   1800   1800   \n",
      "48                                       1800   1800   1800   1800   1800   \n",
      "60                                       1800   1800   1800   1800   1800   \n",
      "99                                       1800   1800   1800   1800   1800   \n",
      "0                                         900    900    900    900    900   \n",
      "100                                      1800   1800   1800   1800   1800   \n",
      "63                                       1800   1800   1800   1800   1800   \n",
      "65                                       1800   1800   1800   1800   1800   \n",
      "80                                       1800   1800   1800   1800   1800   \n",
      "87                                       1800   1800   1800   1800   1800   \n",
      "MagLaBeL                                  279    279    279    279    279   \n",
      "angry sitting 0                           600    600    600    600    600   \n",
      "angry table sitting 0                     600    600    600    600    600   \n",
      "just sitting, straight posture 0          300    300    300    300    300   \n",
      "random moving, straight posture 0         300    300    300    300    300   \n",
      "standart sitting, sample rolling 0         48     48     48     48     48   \n",
      "usual nontable sitting 1                 1800   1800   1800   1800   1800   \n",
      "usual nontable sitting 2                 1800   1800   1800   1800   1800   \n",
      "usual nontable sitting 3                 1800   1800   1800   1800   1800   \n",
      "usual sitting                              18     18     18     18     18   \n",
      "usual sitting 1                           600    600    600    600    600   \n",
      "usual table sitting 0                     600    600    600    600    600   \n",
      "usual table sitting 1                    1800   1800   1800   1800   1800   \n",
      "work, talking, tired                      120    120    120    120    120   \n",
      "work, talking, tired, angry               120    120    120    120    120   \n",
      "\n",
      "                                    Acc_y  Acc_z  \n",
      "label                                             \n",
      "5                                    1800   1800  \n",
      "30                                   1800   1800  \n",
      "48                                   1800   1800  \n",
      "60                                   1800   1800  \n",
      "99                                   1800   1800  \n",
      "0                                     900    900  \n",
      "100                                  1800   1800  \n",
      "63                                   1800   1800  \n",
      "65                                   1800   1800  \n",
      "80                                   1800   1800  \n",
      "87                                   1800   1800  \n",
      "MagLaBeL                              279    279  \n",
      "angry sitting 0                       600    600  \n",
      "angry table sitting 0                 600    600  \n",
      "just sitting, straight posture 0      300    300  \n",
      "random moving, straight posture 0     300    300  \n",
      "standart sitting, sample rolling 0     48     48  \n",
      "usual nontable sitting 1             1800   1800  \n",
      "usual nontable sitting 2             1800   1800  \n",
      "usual nontable sitting 3             1800   1800  \n",
      "usual sitting                          18     18  \n",
      "usual sitting 1                       600    600  \n",
      "usual table sitting 0                 600    600  \n",
      "usual table sitting 1                1800   1800  \n",
      "work, talking, tired                  120    120  \n",
      "work, talking, tired, angry           120    120  \n"
     ]
    }
   ],
   "source": [
    "df = data.groupby('label')\n",
    "print(df.count())"
   ]
  },
  {
   "cell_type": "markdown",
   "metadata": {
    "colab_type": "text",
    "id": "RJWLVwbb4ubJ",
    "slideshow": {
     "slide_type": "skip"
    }
   },
   "source": [
    "### Full dataset creation"
   ]
  },
  {
   "cell_type": "code",
   "execution_count": 12,
   "metadata": {
    "colab": {
     "base_uri": "https://localhost:8080/",
     "height": 1511
    },
    "colab_type": "code",
    "id": "4X-4BArXnBlu",
    "outputId": "27ec31b1-e1ad-4dc6-92e5-cae8a60fc375",
    "slideshow": {
     "slide_type": "skip"
    }
   },
   "outputs": [],
   "source": [
    "df = pd.DataFrame()\n",
    "for i in range(0, lab2.shape[0]):\n",
    "  df = df.append(data[data.label ==lab2[i]])\n"
   ]
  },
  {
   "cell_type": "markdown",
   "metadata": {
    "colab_type": "text",
    "id": "72bs1uaSE50w",
    "slideshow": {
     "slide_type": "slide"
    }
   },
   "source": [
    "### Encoding the labels\n",
    "Labels for usefull data  are ['100' '87' '65' '80' '63' '0' 60 5 99 30 48]. But all labels should have numerical values for further classes separation"
   ]
  },
  {
   "cell_type": "code",
   "execution_count": 13,
   "metadata": {
    "colab": {},
    "colab_type": "code",
    "id": "9dYU2MOOEM2W",
    "slideshow": {
     "slide_type": "-"
    }
   },
   "outputs": [],
   "source": [
    "df.label = df.label.astype(int)"
   ]
  },
  {
   "cell_type": "markdown",
   "metadata": {
    "colab_type": "text",
    "id": "l9vpNBnFTwe9",
    "slideshow": {
     "slide_type": "slide"
    }
   },
   "source": [
    "### Data separation into sets samples\n",
    "For ML model each experiments have to be defined. We made 13 tests with  time duration from  1 to 3 min. "
   ]
  },
  {
   "cell_type": "code",
   "execution_count": 14,
   "metadata": {
    "colab": {
     "base_uri": "https://localhost:8080/",
     "height": 52
    },
    "colab_type": "code",
    "id": "zUaxJjbvR5tn",
    "outputId": "841e34a3-0c66-4157-9f7c-76fca8c513a3",
    "slideshow": {
     "slide_type": "-"
    }
   },
   "outputs": [
    {
     "data": {
      "text/plain": [
       "array(['alexey', 'nikita', 'nastya', 'oxana', 'Rost', 'noone', 'Rost2',\n",
       "       'Tolya', 'oxana2', 'Alexey_1', 'Junya'], dtype=object)"
      ]
     },
     "execution_count": 14,
     "metadata": {},
     "output_type": "execute_result"
    }
   ],
   "source": [
    "uniq = df['people_id'].unique()\n",
    "uniq"
   ]
  },
  {
   "cell_type": "code",
   "execution_count": 15,
   "metadata": {
    "colab": {
     "base_uri": "https://localhost:8080/",
     "height": 34
    },
    "colab_type": "code",
    "id": "lh-q6O9dinfM",
    "outputId": "cc64bede-9393-473b-9738-159bd88d5341",
    "slideshow": {
     "slide_type": "skip"
    }
   },
   "outputs": [
    {
     "data": {
      "text/plain": [
       "(18900, 8)"
      ]
     },
     "execution_count": 15,
     "metadata": {},
     "output_type": "execute_result"
    }
   ],
   "source": [
    "df.shape"
   ]
  },
  {
   "cell_type": "markdown",
   "metadata": {
    "slideshow": {
     "slide_type": "slide"
    }
   },
   "source": [
    "### Represantation of final data "
   ]
  },
  {
   "cell_type": "code",
   "execution_count": 16,
   "metadata": {
    "colab": {
     "base_uri": "https://localhost:8080/",
     "height": 208
    },
    "colab_type": "code",
    "id": "E8jfsGaQR5tw",
    "outputId": "52a25183-8eb3-48db-dddf-a56847769cd8",
    "slideshow": {
     "slide_type": "-"
    }
   },
   "outputs": [
    {
     "name": "stdout",
     "output_type": "stream",
     "text": [
      "alexey (1800, 8)\n",
      "nikita (1800, 8)\n",
      "nastya (1800, 8)\n",
      "oxana (1800, 8)\n",
      "Rost (1800, 8)\n",
      "noone (900, 8)\n",
      "Rost2 (1800, 8)\n",
      "Tolya (1800, 8)\n",
      "oxana2 (1800, 8)\n",
      "Alexey_1 (1800, 8)\n",
      "Junya (1800, 8)\n"
     ]
    }
   ],
   "source": [
    "ex = []  #each cell is 1 experiment\n",
    "for i in range(0, uniq.shape[0]):\n",
    "  ex.append(df[df['people_id']==uniq[i]])\n",
    "  print(str(uniq[i])+' '+str(ex[i].shape))"
   ]
  },
  {
   "cell_type": "markdown",
   "metadata": {
    "slideshow": {
     "slide_type": "slide"
    }
   },
   "source": [
    "### Full database"
   ]
  },
  {
   "cell_type": "code",
   "execution_count": 17,
   "metadata": {
    "colab": {
     "base_uri": "https://localhost:8080/",
     "height": 507
    },
    "colab_type": "code",
    "id": "e7zJ_Vn_-OtV",
    "outputId": "a0aae90b-f733-4631-8590-7c60624ddf85",
    "slideshow": {
     "slide_type": "-"
    }
   },
   "outputs": [
    {
     "data": {
      "text/html": [
       "<div>\n",
       "<style scoped>\n",
       "    .dataframe tbody tr th:only-of-type {\n",
       "        vertical-align: middle;\n",
       "    }\n",
       "\n",
       "    .dataframe tbody tr th {\n",
       "        vertical-align: top;\n",
       "    }\n",
       "\n",
       "    .dataframe thead tr th {\n",
       "        text-align: left;\n",
       "    }\n",
       "\n",
       "    .dataframe thead tr:last-of-type th {\n",
       "        text-align: right;\n",
       "    }\n",
       "</style>\n",
       "<table border=\"1\" class=\"dataframe\">\n",
       "  <thead>\n",
       "    <tr>\n",
       "      <th></th>\n",
       "      <th colspan=\"8\" halign=\"left\">Acc_x</th>\n",
       "      <th colspan=\"2\" halign=\"left\">Acc_y</th>\n",
       "      <th>...</th>\n",
       "      <th colspan=\"2\" halign=\"left\">Mag_y</th>\n",
       "      <th colspan=\"8\" halign=\"left\">Mag_z</th>\n",
       "    </tr>\n",
       "    <tr>\n",
       "      <th></th>\n",
       "      <th>count</th>\n",
       "      <th>mean</th>\n",
       "      <th>std</th>\n",
       "      <th>min</th>\n",
       "      <th>25%</th>\n",
       "      <th>50%</th>\n",
       "      <th>75%</th>\n",
       "      <th>max</th>\n",
       "      <th>count</th>\n",
       "      <th>mean</th>\n",
       "      <th>...</th>\n",
       "      <th>75%</th>\n",
       "      <th>max</th>\n",
       "      <th>count</th>\n",
       "      <th>mean</th>\n",
       "      <th>std</th>\n",
       "      <th>min</th>\n",
       "      <th>25%</th>\n",
       "      <th>50%</th>\n",
       "      <th>75%</th>\n",
       "      <th>max</th>\n",
       "    </tr>\n",
       "    <tr>\n",
       "      <th>label</th>\n",
       "      <th></th>\n",
       "      <th></th>\n",
       "      <th></th>\n",
       "      <th></th>\n",
       "      <th></th>\n",
       "      <th></th>\n",
       "      <th></th>\n",
       "      <th></th>\n",
       "      <th></th>\n",
       "      <th></th>\n",
       "      <th></th>\n",
       "      <th></th>\n",
       "      <th></th>\n",
       "      <th></th>\n",
       "      <th></th>\n",
       "      <th></th>\n",
       "      <th></th>\n",
       "      <th></th>\n",
       "      <th></th>\n",
       "      <th></th>\n",
       "      <th></th>\n",
       "    </tr>\n",
       "  </thead>\n",
       "  <tbody>\n",
       "    <tr>\n",
       "      <th>0</th>\n",
       "      <td>900.0</td>\n",
       "      <td>1590.471111</td>\n",
       "      <td>23.019077</td>\n",
       "      <td>1520.0</td>\n",
       "      <td>1584.0</td>\n",
       "      <td>1584.0</td>\n",
       "      <td>1600.0</td>\n",
       "      <td>1680.0</td>\n",
       "      <td>900.0</td>\n",
       "      <td>854.364444</td>\n",
       "      <td>...</td>\n",
       "      <td>-9134.00</td>\n",
       "      <td>-9086.0</td>\n",
       "      <td>900.0</td>\n",
       "      <td>3621.010000</td>\n",
       "      <td>34.732618</td>\n",
       "      <td>3511.0</td>\n",
       "      <td>3598.0</td>\n",
       "      <td>3622.5</td>\n",
       "      <td>3644.00</td>\n",
       "      <td>3716.0</td>\n",
       "    </tr>\n",
       "    <tr>\n",
       "      <th>5</th>\n",
       "      <td>1800.0</td>\n",
       "      <td>2140.675556</td>\n",
       "      <td>115.667295</td>\n",
       "      <td>1792.0</td>\n",
       "      <td>2064.0</td>\n",
       "      <td>2112.0</td>\n",
       "      <td>2176.0</td>\n",
       "      <td>2672.0</td>\n",
       "      <td>1800.0</td>\n",
       "      <td>910.160000</td>\n",
       "      <td>...</td>\n",
       "      <td>-7270.00</td>\n",
       "      <td>-6162.0</td>\n",
       "      <td>1800.0</td>\n",
       "      <td>3451.900556</td>\n",
       "      <td>36.772630</td>\n",
       "      <td>3333.0</td>\n",
       "      <td>3428.0</td>\n",
       "      <td>3451.0</td>\n",
       "      <td>3476.00</td>\n",
       "      <td>3591.0</td>\n",
       "    </tr>\n",
       "    <tr>\n",
       "      <th>30</th>\n",
       "      <td>1800.0</td>\n",
       "      <td>2655.031111</td>\n",
       "      <td>31.768813</td>\n",
       "      <td>2240.0</td>\n",
       "      <td>2640.0</td>\n",
       "      <td>2656.0</td>\n",
       "      <td>2672.0</td>\n",
       "      <td>2800.0</td>\n",
       "      <td>1800.0</td>\n",
       "      <td>781.466667</td>\n",
       "      <td>...</td>\n",
       "      <td>-6207.00</td>\n",
       "      <td>-5926.0</td>\n",
       "      <td>1800.0</td>\n",
       "      <td>3619.445556</td>\n",
       "      <td>33.838864</td>\n",
       "      <td>3506.0</td>\n",
       "      <td>3597.0</td>\n",
       "      <td>3620.0</td>\n",
       "      <td>3642.00</td>\n",
       "      <td>3725.0</td>\n",
       "    </tr>\n",
       "    <tr>\n",
       "      <th>48</th>\n",
       "      <td>1800.0</td>\n",
       "      <td>2131.155556</td>\n",
       "      <td>56.738698</td>\n",
       "      <td>0.0</td>\n",
       "      <td>2112.0</td>\n",
       "      <td>2128.0</td>\n",
       "      <td>2144.0</td>\n",
       "      <td>2224.0</td>\n",
       "      <td>1800.0</td>\n",
       "      <td>581.564444</td>\n",
       "      <td>...</td>\n",
       "      <td>-5160.00</td>\n",
       "      <td>-5100.0</td>\n",
       "      <td>1800.0</td>\n",
       "      <td>2873.100000</td>\n",
       "      <td>35.843524</td>\n",
       "      <td>2596.0</td>\n",
       "      <td>2850.0</td>\n",
       "      <td>2874.0</td>\n",
       "      <td>2899.00</td>\n",
       "      <td>2974.0</td>\n",
       "    </tr>\n",
       "    <tr>\n",
       "      <th>60</th>\n",
       "      <td>1800.0</td>\n",
       "      <td>2307.662222</td>\n",
       "      <td>220.152035</td>\n",
       "      <td>1888.0</td>\n",
       "      <td>2060.0</td>\n",
       "      <td>2400.0</td>\n",
       "      <td>2496.0</td>\n",
       "      <td>2720.0</td>\n",
       "      <td>1800.0</td>\n",
       "      <td>747.075556</td>\n",
       "      <td>...</td>\n",
       "      <td>-7489.00</td>\n",
       "      <td>-5372.0</td>\n",
       "      <td>1800.0</td>\n",
       "      <td>3727.463333</td>\n",
       "      <td>112.856670</td>\n",
       "      <td>3411.0</td>\n",
       "      <td>3643.0</td>\n",
       "      <td>3739.5</td>\n",
       "      <td>3788.25</td>\n",
       "      <td>4054.0</td>\n",
       "    </tr>\n",
       "    <tr>\n",
       "      <th>63</th>\n",
       "      <td>1800.0</td>\n",
       "      <td>2012.480000</td>\n",
       "      <td>85.407779</td>\n",
       "      <td>1136.0</td>\n",
       "      <td>1968.0</td>\n",
       "      <td>2016.0</td>\n",
       "      <td>2064.0</td>\n",
       "      <td>2448.0</td>\n",
       "      <td>1800.0</td>\n",
       "      <td>1198.737778</td>\n",
       "      <td>...</td>\n",
       "      <td>-9591.00</td>\n",
       "      <td>-9198.0</td>\n",
       "      <td>1800.0</td>\n",
       "      <td>4024.393333</td>\n",
       "      <td>48.206624</td>\n",
       "      <td>3842.0</td>\n",
       "      <td>3991.0</td>\n",
       "      <td>4020.0</td>\n",
       "      <td>4058.00</td>\n",
       "      <td>4172.0</td>\n",
       "    </tr>\n",
       "    <tr>\n",
       "      <th>65</th>\n",
       "      <td>1800.0</td>\n",
       "      <td>1851.697778</td>\n",
       "      <td>270.070746</td>\n",
       "      <td>-2016.0</td>\n",
       "      <td>1840.0</td>\n",
       "      <td>1888.0</td>\n",
       "      <td>1920.0</td>\n",
       "      <td>3872.0</td>\n",
       "      <td>1800.0</td>\n",
       "      <td>1083.688889</td>\n",
       "      <td>...</td>\n",
       "      <td>-5367.00</td>\n",
       "      <td>-4232.0</td>\n",
       "      <td>1800.0</td>\n",
       "      <td>4268.967778</td>\n",
       "      <td>109.927937</td>\n",
       "      <td>4085.0</td>\n",
       "      <td>4212.0</td>\n",
       "      <td>4238.0</td>\n",
       "      <td>4266.00</td>\n",
       "      <td>4654.0</td>\n",
       "    </tr>\n",
       "    <tr>\n",
       "      <th>80</th>\n",
       "      <td>1800.0</td>\n",
       "      <td>1742.088889</td>\n",
       "      <td>167.844739</td>\n",
       "      <td>800.0</td>\n",
       "      <td>1632.0</td>\n",
       "      <td>1728.0</td>\n",
       "      <td>1856.0</td>\n",
       "      <td>2736.0</td>\n",
       "      <td>1800.0</td>\n",
       "      <td>762.835556</td>\n",
       "      <td>...</td>\n",
       "      <td>-9504.00</td>\n",
       "      <td>-6478.0</td>\n",
       "      <td>1800.0</td>\n",
       "      <td>3578.770000</td>\n",
       "      <td>66.065125</td>\n",
       "      <td>3352.0</td>\n",
       "      <td>3535.0</td>\n",
       "      <td>3573.0</td>\n",
       "      <td>3612.00</td>\n",
       "      <td>3863.0</td>\n",
       "    </tr>\n",
       "    <tr>\n",
       "      <th>87</th>\n",
       "      <td>1800.0</td>\n",
       "      <td>2616.240000</td>\n",
       "      <td>1148.633064</td>\n",
       "      <td>-6288.0</td>\n",
       "      <td>1820.0</td>\n",
       "      <td>2352.0</td>\n",
       "      <td>3400.0</td>\n",
       "      <td>10304.0</td>\n",
       "      <td>1800.0</td>\n",
       "      <td>710.782222</td>\n",
       "      <td>...</td>\n",
       "      <td>-6388.25</td>\n",
       "      <td>-4412.0</td>\n",
       "      <td>1800.0</td>\n",
       "      <td>4392.723333</td>\n",
       "      <td>166.141317</td>\n",
       "      <td>4139.0</td>\n",
       "      <td>4270.0</td>\n",
       "      <td>4339.0</td>\n",
       "      <td>4478.00</td>\n",
       "      <td>4854.0</td>\n",
       "    </tr>\n",
       "    <tr>\n",
       "      <th>99</th>\n",
       "      <td>1800.0</td>\n",
       "      <td>2369.271111</td>\n",
       "      <td>208.615718</td>\n",
       "      <td>0.0</td>\n",
       "      <td>2320.0</td>\n",
       "      <td>2368.0</td>\n",
       "      <td>2480.0</td>\n",
       "      <td>5296.0</td>\n",
       "      <td>1800.0</td>\n",
       "      <td>748.320000</td>\n",
       "      <td>...</td>\n",
       "      <td>-5712.00</td>\n",
       "      <td>-4955.0</td>\n",
       "      <td>1800.0</td>\n",
       "      <td>4266.327222</td>\n",
       "      <td>69.544177</td>\n",
       "      <td>4035.0</td>\n",
       "      <td>4211.0</td>\n",
       "      <td>4259.0</td>\n",
       "      <td>4328.00</td>\n",
       "      <td>4594.0</td>\n",
       "    </tr>\n",
       "    <tr>\n",
       "      <th>100</th>\n",
       "      <td>1800.0</td>\n",
       "      <td>2342.888889</td>\n",
       "      <td>337.894196</td>\n",
       "      <td>144.0</td>\n",
       "      <td>2224.0</td>\n",
       "      <td>2432.0</td>\n",
       "      <td>2544.0</td>\n",
       "      <td>4272.0</td>\n",
       "      <td>1800.0</td>\n",
       "      <td>872.444444</td>\n",
       "      <td>...</td>\n",
       "      <td>-8528.75</td>\n",
       "      <td>-7603.0</td>\n",
       "      <td>1800.0</td>\n",
       "      <td>4346.066667</td>\n",
       "      <td>57.421053</td>\n",
       "      <td>4119.0</td>\n",
       "      <td>4319.0</td>\n",
       "      <td>4351.0</td>\n",
       "      <td>4382.00</td>\n",
       "      <td>4605.0</td>\n",
       "    </tr>\n",
       "  </tbody>\n",
       "</table>\n",
       "<p>11 rows × 48 columns</p>\n",
       "</div>"
      ],
      "text/plain": [
       "        Acc_x                                                            \\\n",
       "        count         mean          std     min     25%     50%     75%   \n",
       "label                                                                     \n",
       "0       900.0  1590.471111    23.019077  1520.0  1584.0  1584.0  1600.0   \n",
       "5      1800.0  2140.675556   115.667295  1792.0  2064.0  2112.0  2176.0   \n",
       "30     1800.0  2655.031111    31.768813  2240.0  2640.0  2656.0  2672.0   \n",
       "48     1800.0  2131.155556    56.738698     0.0  2112.0  2128.0  2144.0   \n",
       "60     1800.0  2307.662222   220.152035  1888.0  2060.0  2400.0  2496.0   \n",
       "63     1800.0  2012.480000    85.407779  1136.0  1968.0  2016.0  2064.0   \n",
       "65     1800.0  1851.697778   270.070746 -2016.0  1840.0  1888.0  1920.0   \n",
       "80     1800.0  1742.088889   167.844739   800.0  1632.0  1728.0  1856.0   \n",
       "87     1800.0  2616.240000  1148.633064 -6288.0  1820.0  2352.0  3400.0   \n",
       "99     1800.0  2369.271111   208.615718     0.0  2320.0  2368.0  2480.0   \n",
       "100    1800.0  2342.888889   337.894196   144.0  2224.0  2432.0  2544.0   \n",
       "\n",
       "                 Acc_y                ...      Mag_y           Mag_z  \\\n",
       "           max   count         mean   ...        75%     max   count   \n",
       "label                                 ...                              \n",
       "0       1680.0   900.0   854.364444   ...   -9134.00 -9086.0   900.0   \n",
       "5       2672.0  1800.0   910.160000   ...   -7270.00 -6162.0  1800.0   \n",
       "30      2800.0  1800.0   781.466667   ...   -6207.00 -5926.0  1800.0   \n",
       "48      2224.0  1800.0   581.564444   ...   -5160.00 -5100.0  1800.0   \n",
       "60      2720.0  1800.0   747.075556   ...   -7489.00 -5372.0  1800.0   \n",
       "63      2448.0  1800.0  1198.737778   ...   -9591.00 -9198.0  1800.0   \n",
       "65      3872.0  1800.0  1083.688889   ...   -5367.00 -4232.0  1800.0   \n",
       "80      2736.0  1800.0   762.835556   ...   -9504.00 -6478.0  1800.0   \n",
       "87     10304.0  1800.0   710.782222   ...   -6388.25 -4412.0  1800.0   \n",
       "99      5296.0  1800.0   748.320000   ...   -5712.00 -4955.0  1800.0   \n",
       "100     4272.0  1800.0   872.444444   ...   -8528.75 -7603.0  1800.0   \n",
       "\n",
       "                                                                         \n",
       "              mean         std     min     25%     50%      75%     max  \n",
       "label                                                                    \n",
       "0      3621.010000   34.732618  3511.0  3598.0  3622.5  3644.00  3716.0  \n",
       "5      3451.900556   36.772630  3333.0  3428.0  3451.0  3476.00  3591.0  \n",
       "30     3619.445556   33.838864  3506.0  3597.0  3620.0  3642.00  3725.0  \n",
       "48     2873.100000   35.843524  2596.0  2850.0  2874.0  2899.00  2974.0  \n",
       "60     3727.463333  112.856670  3411.0  3643.0  3739.5  3788.25  4054.0  \n",
       "63     4024.393333   48.206624  3842.0  3991.0  4020.0  4058.00  4172.0  \n",
       "65     4268.967778  109.927937  4085.0  4212.0  4238.0  4266.00  4654.0  \n",
       "80     3578.770000   66.065125  3352.0  3535.0  3573.0  3612.00  3863.0  \n",
       "87     4392.723333  166.141317  4139.0  4270.0  4339.0  4478.00  4854.0  \n",
       "99     4266.327222   69.544177  4035.0  4211.0  4259.0  4328.00  4594.0  \n",
       "100    4346.066667   57.421053  4119.0  4319.0  4351.0  4382.00  4605.0  \n",
       "\n",
       "[11 rows x 48 columns]"
      ]
     },
     "execution_count": 17,
     "metadata": {},
     "output_type": "execute_result"
    }
   ],
   "source": [
    "df_label = (df.groupby('label'))\n",
    "df_label.describe()"
   ]
  },
  {
   "cell_type": "markdown",
   "metadata": {
    "colab_type": "text",
    "id": "4EO-ys2pAhKl",
    "slideshow": {
     "slide_type": "skip"
    }
   },
   "source": [
    "The \"label\" clear defines the experiment. That mean \"people_id\" can be droped."
   ]
  },
  {
   "cell_type": "code",
   "execution_count": 18,
   "metadata": {
    "colab": {
     "base_uri": "https://localhost:8080/",
     "height": 507
    },
    "colab_type": "code",
    "id": "nhEdFry8_vWi",
    "outputId": "23c5dae5-b31a-48ff-b2da-4f39060e6da8",
    "slideshow": {
     "slide_type": "skip"
    }
   },
   "outputs": [],
   "source": [
    "df_dr = df.drop('people_id', axis =1 )\n",
    "\n"
   ]
  },
  {
   "cell_type": "markdown",
   "metadata": {
    "colab_type": "text",
    "id": "YpnYQIfs3wp7",
    "slideshow": {
     "slide_type": "slide"
    }
   },
   "source": [
    "### X  and y determination  \n",
    "There were 13 experiments with different lengths. But using only 13 experiments is not good for making ML model. For increasing the number of experiments length of experiment equal 150 points are used. It is equal 126 test with 15 sec time duration."
   ]
  },
  {
   "cell_type": "code",
   "execution_count": 19,
   "metadata": {
    "colab": {},
    "colab_type": "code",
    "id": "rBpQNPa_I3Pg",
    "slideshow": {
     "slide_type": "skip"
    }
   },
   "outputs": [],
   "source": [
    "X = df_dr.drop('label', axis = 1)\n",
    "lab_x = X.columns\n",
    "y = df_dr.label"
   ]
  },
  {
   "cell_type": "code",
   "execution_count": 20,
   "metadata": {
    "colab": {
     "base_uri": "https://localhost:8080/",
     "height": 34
    },
    "colab_type": "code",
    "id": "-SYelGpWJSGM",
    "outputId": "88eac192-84fa-4456-fd78-78b71b126699",
    "slideshow": {
     "slide_type": "skip"
    }
   },
   "outputs": [
    {
     "name": "stdout",
     "output_type": "stream",
     "text": [
      "Index(['Mag_x', 'Mag_y', 'Mag_z', 'Acc_x', 'Acc_y', 'Acc_z'], dtype='object')\n"
     ]
    }
   ],
   "source": [
    "print(lab_x)"
   ]
  },
  {
   "cell_type": "markdown",
   "metadata": {
    "slideshow": {
     "slide_type": "slide"
    }
   },
   "source": [
    "### Increasing number of experiments"
   ]
  },
  {
   "cell_type": "code",
   "execution_count": 21,
   "metadata": {
    "colab": {},
    "colab_type": "code",
    "id": "1hGhJJErSKbY",
    "slideshow": {
     "slide_type": "-"
    }
   },
   "outputs": [],
   "source": [
    "\n",
    "num_timestamp = 150\n",
    "\n",
    "mag_x = np.array(((X.Mag_x.values.reshape((int(len(X.Mag_x)/num_timestamp),-1)))))\n",
    "mag_y = np.array(((X.Mag_y.values.reshape((int(len(X.Mag_y)/num_timestamp),-1)))))\n",
    "mag_z =np.array ((X.Mag_z.values.reshape((int(len(X.Mag_z)/num_timestamp),-1))))\n",
    "acc_x =np.array ((X.Acc_x.values.reshape((int(len(X.Acc_x)/num_timestamp),-1))))\n",
    "acc_y = np.array((X.Acc_y.values.reshape((int(len(X.Acc_y)/num_timestamp),-1))))\n",
    "acc_z =np.array ((X.Acc_z.values.reshape((int(len(X.Acc_z)/num_timestamp),-1))))"
   ]
  },
  {
   "cell_type": "code",
   "execution_count": 22,
   "metadata": {
    "colab": {
     "base_uri": "https://localhost:8080/",
     "height": 71
    },
    "colab_type": "code",
    "id": "3yWII6cHX_nK",
    "outputId": "d3244dae-22b5-4b63-c815-9775d41987d8",
    "slideshow": {
     "slide_type": "-"
    }
   },
   "outputs": [
    {
     "data": {
      "text/plain": [
       "(126, 900)"
      ]
     },
     "execution_count": 22,
     "metadata": {},
     "output_type": "execute_result"
    }
   ],
   "source": [
    "columns_series = [\"Acc_x_{}\".format(i) for i in range(acc_x.shape[1])]\n",
    "\n",
    "X_assembled = pd.DataFrame(data=acc_x, columns=columns_series).join(\n",
    "    pd.DataFrame(data=acc_y, columns=[\"Acc_y_{}\".format(i) for i in range(acc_y.shape[1])])\n",
    "    ).join(pd.DataFrame(data=acc_z, columns=[\"Acc_z_{}\".format(i) for i in range(acc_z.shape[1])])\n",
    "    ).join(pd.DataFrame(data=mag_x, columns=[\"Mag_x_{}\".format(i) for i in range(mag_x.shape[1])])\n",
    "    ).join(pd.DataFrame(data=mag_y, columns=[\"Mag_y_{}\".format(i) for i in range(mag_y.shape[1])])\n",
    "    ).join(pd.DataFrame(data=mag_z, columns=[\"Mag_z_{}\".format(i) for i in range(mag_z.shape[1])]))\n",
    "X_assembled.shape"
   ]
  },
  {
   "cell_type": "code",
   "execution_count": 23,
   "metadata": {
    "colab": {
     "base_uri": "https://localhost:8080/",
     "height": 1989
    },
    "colab_type": "code",
    "id": "P7b3y_vceu9b",
    "outputId": "438891a6-6458-4968-b110-730aa40a4629"
   },
   "outputs": [
    {
     "data": {
      "text/html": [
       "<div>\n",
       "<style scoped>\n",
       "    .dataframe tbody tr th:only-of-type {\n",
       "        vertical-align: middle;\n",
       "    }\n",
       "\n",
       "    .dataframe tbody tr th {\n",
       "        vertical-align: top;\n",
       "    }\n",
       "\n",
       "    .dataframe thead th {\n",
       "        text-align: right;\n",
       "    }\n",
       "</style>\n",
       "<table border=\"1\" class=\"dataframe\">\n",
       "  <thead>\n",
       "    <tr style=\"text-align: right;\">\n",
       "      <th></th>\n",
       "      <th>Acc_x_0</th>\n",
       "      <th>Acc_x_1</th>\n",
       "      <th>Acc_x_2</th>\n",
       "      <th>Acc_x_3</th>\n",
       "      <th>Acc_x_4</th>\n",
       "      <th>Acc_x_5</th>\n",
       "      <th>Acc_x_6</th>\n",
       "      <th>Acc_x_7</th>\n",
       "      <th>Acc_x_8</th>\n",
       "      <th>Acc_x_9</th>\n",
       "      <th>...</th>\n",
       "      <th>Mag_z_140</th>\n",
       "      <th>Mag_z_141</th>\n",
       "      <th>Mag_z_142</th>\n",
       "      <th>Mag_z_143</th>\n",
       "      <th>Mag_z_144</th>\n",
       "      <th>Mag_z_145</th>\n",
       "      <th>Mag_z_146</th>\n",
       "      <th>Mag_z_147</th>\n",
       "      <th>Mag_z_148</th>\n",
       "      <th>Mag_z_149</th>\n",
       "    </tr>\n",
       "  </thead>\n",
       "  <tbody>\n",
       "    <tr>\n",
       "      <th>0</th>\n",
       "      <td>2384</td>\n",
       "      <td>2464</td>\n",
       "      <td>2448</td>\n",
       "      <td>2448</td>\n",
       "      <td>2400</td>\n",
       "      <td>2432</td>\n",
       "      <td>2432</td>\n",
       "      <td>2400</td>\n",
       "      <td>2416</td>\n",
       "      <td>2432</td>\n",
       "      <td>...</td>\n",
       "      <td>4323</td>\n",
       "      <td>4329</td>\n",
       "      <td>4323</td>\n",
       "      <td>4353</td>\n",
       "      <td>4329</td>\n",
       "      <td>4605</td>\n",
       "      <td>4322</td>\n",
       "      <td>4327</td>\n",
       "      <td>4293</td>\n",
       "      <td>4353</td>\n",
       "    </tr>\n",
       "    <tr>\n",
       "      <th>1</th>\n",
       "      <td>2192</td>\n",
       "      <td>2400</td>\n",
       "      <td>2288</td>\n",
       "      <td>2320</td>\n",
       "      <td>2336</td>\n",
       "      <td>2496</td>\n",
       "      <td>2432</td>\n",
       "      <td>2592</td>\n",
       "      <td>2352</td>\n",
       "      <td>2448</td>\n",
       "      <td>...</td>\n",
       "      <td>4387</td>\n",
       "      <td>4362</td>\n",
       "      <td>4359</td>\n",
       "      <td>4342</td>\n",
       "      <td>4362</td>\n",
       "      <td>4310</td>\n",
       "      <td>4382</td>\n",
       "      <td>4400</td>\n",
       "      <td>4351</td>\n",
       "      <td>4322</td>\n",
       "    </tr>\n",
       "    <tr>\n",
       "      <th>2</th>\n",
       "      <td>2512</td>\n",
       "      <td>2592</td>\n",
       "      <td>2560</td>\n",
       "      <td>2576</td>\n",
       "      <td>2544</td>\n",
       "      <td>2624</td>\n",
       "      <td>2672</td>\n",
       "      <td>2592</td>\n",
       "      <td>2672</td>\n",
       "      <td>2560</td>\n",
       "      <td>...</td>\n",
       "      <td>4374</td>\n",
       "      <td>4421</td>\n",
       "      <td>4329</td>\n",
       "      <td>4386</td>\n",
       "      <td>4367</td>\n",
       "      <td>4379</td>\n",
       "      <td>4139</td>\n",
       "      <td>4327</td>\n",
       "      <td>4396</td>\n",
       "      <td>4387</td>\n",
       "    </tr>\n",
       "    <tr>\n",
       "      <th>3</th>\n",
       "      <td>2528</td>\n",
       "      <td>2656</td>\n",
       "      <td>2640</td>\n",
       "      <td>2768</td>\n",
       "      <td>2704</td>\n",
       "      <td>2736</td>\n",
       "      <td>2592</td>\n",
       "      <td>2816</td>\n",
       "      <td>2496</td>\n",
       "      <td>2800</td>\n",
       "      <td>...</td>\n",
       "      <td>4369</td>\n",
       "      <td>4348</td>\n",
       "      <td>4322</td>\n",
       "      <td>4329</td>\n",
       "      <td>4368</td>\n",
       "      <td>4321</td>\n",
       "      <td>4347</td>\n",
       "      <td>4348</td>\n",
       "      <td>4364</td>\n",
       "      <td>4329</td>\n",
       "    </tr>\n",
       "    <tr>\n",
       "      <th>4</th>\n",
       "      <td>2560</td>\n",
       "      <td>2592</td>\n",
       "      <td>2672</td>\n",
       "      <td>2736</td>\n",
       "      <td>2800</td>\n",
       "      <td>2912</td>\n",
       "      <td>2896</td>\n",
       "      <td>2736</td>\n",
       "      <td>3072</td>\n",
       "      <td>3120</td>\n",
       "      <td>...</td>\n",
       "      <td>4363</td>\n",
       "      <td>4353</td>\n",
       "      <td>4353</td>\n",
       "      <td>4347</td>\n",
       "      <td>4333</td>\n",
       "      <td>4335</td>\n",
       "      <td>4341</td>\n",
       "      <td>4323</td>\n",
       "      <td>4349</td>\n",
       "      <td>4371</td>\n",
       "    </tr>\n",
       "  </tbody>\n",
       "</table>\n",
       "<p>5 rows × 900 columns</p>\n",
       "</div>"
      ],
      "text/plain": [
       "   Acc_x_0  Acc_x_1  Acc_x_2  Acc_x_3  Acc_x_4  Acc_x_5  Acc_x_6  Acc_x_7  \\\n",
       "0     2384     2464     2448     2448     2400     2432     2432     2400   \n",
       "1     2192     2400     2288     2320     2336     2496     2432     2592   \n",
       "2     2512     2592     2560     2576     2544     2624     2672     2592   \n",
       "3     2528     2656     2640     2768     2704     2736     2592     2816   \n",
       "4     2560     2592     2672     2736     2800     2912     2896     2736   \n",
       "\n",
       "   Acc_x_8  Acc_x_9    ...      Mag_z_140  Mag_z_141  Mag_z_142  Mag_z_143  \\\n",
       "0     2416     2432    ...           4323       4329       4323       4353   \n",
       "1     2352     2448    ...           4387       4362       4359       4342   \n",
       "2     2672     2560    ...           4374       4421       4329       4386   \n",
       "3     2496     2800    ...           4369       4348       4322       4329   \n",
       "4     3072     3120    ...           4363       4353       4353       4347   \n",
       "\n",
       "   Mag_z_144  Mag_z_145  Mag_z_146  Mag_z_147  Mag_z_148  Mag_z_149  \n",
       "0       4329       4605       4322       4327       4293       4353  \n",
       "1       4362       4310       4382       4400       4351       4322  \n",
       "2       4367       4379       4139       4327       4396       4387  \n",
       "3       4368       4321       4347       4348       4364       4329  \n",
       "4       4333       4335       4341       4323       4349       4371  \n",
       "\n",
       "[5 rows x 900 columns]"
      ]
     },
     "execution_count": 23,
     "metadata": {},
     "output_type": "execute_result"
    }
   ],
   "source": [
    "X_assembled.head()"
   ]
  },
  {
   "cell_type": "markdown",
   "metadata": {
    "colab_type": "text",
    "id": "FRzp3xvYhuIc",
    "slideshow": {
     "slide_type": "slide"
    }
   },
   "source": [
    "### Normalisation for  scaling the data"
   ]
  },
  {
   "cell_type": "code",
   "execution_count": 24,
   "metadata": {
    "colab": {
     "base_uri": "https://localhost:8080/",
     "height": 346
    },
    "colab_type": "code",
    "id": "Wp5kVnBZhVly",
    "outputId": "5545d0a9-1d8d-424d-f34a-a6fa120df2e2",
    "slideshow": {
     "slide_type": "-"
    }
   },
   "outputs": [
    {
     "data": {
      "text/html": [
       "<div>\n",
       "<style scoped>\n",
       "    .dataframe tbody tr th:only-of-type {\n",
       "        vertical-align: middle;\n",
       "    }\n",
       "\n",
       "    .dataframe tbody tr th {\n",
       "        vertical-align: top;\n",
       "    }\n",
       "\n",
       "    .dataframe thead th {\n",
       "        text-align: right;\n",
       "    }\n",
       "</style>\n",
       "<table border=\"1\" class=\"dataframe\">\n",
       "  <thead>\n",
       "    <tr style=\"text-align: right;\">\n",
       "      <th></th>\n",
       "      <th>Acc_x_0</th>\n",
       "      <th>Acc_x_1</th>\n",
       "      <th>Acc_x_2</th>\n",
       "      <th>Acc_x_3</th>\n",
       "      <th>Acc_x_4</th>\n",
       "      <th>Acc_x_5</th>\n",
       "      <th>Acc_x_6</th>\n",
       "      <th>Acc_x_7</th>\n",
       "      <th>Acc_x_8</th>\n",
       "      <th>Acc_x_9</th>\n",
       "      <th>...</th>\n",
       "      <th>Mag_z_140</th>\n",
       "      <th>Mag_z_141</th>\n",
       "      <th>Mag_z_142</th>\n",
       "      <th>Mag_z_143</th>\n",
       "      <th>Mag_z_144</th>\n",
       "      <th>Mag_z_145</th>\n",
       "      <th>Mag_z_146</th>\n",
       "      <th>Mag_z_147</th>\n",
       "      <th>Mag_z_148</th>\n",
       "      <th>Mag_z_149</th>\n",
       "    </tr>\n",
       "  </thead>\n",
       "  <tbody>\n",
       "    <tr>\n",
       "      <th>count</th>\n",
       "      <td>126.000000</td>\n",
       "      <td>126.000000</td>\n",
       "      <td>126.000000</td>\n",
       "      <td>126.000000</td>\n",
       "      <td>126.000000</td>\n",
       "      <td>126.000000</td>\n",
       "      <td>126.000000</td>\n",
       "      <td>126.000000</td>\n",
       "      <td>126.000000</td>\n",
       "      <td>126.000000</td>\n",
       "      <td>...</td>\n",
       "      <td>126.000000</td>\n",
       "      <td>126.000000</td>\n",
       "      <td>126.000000</td>\n",
       "      <td>126.000000</td>\n",
       "      <td>126.000000</td>\n",
       "      <td>126.000000</td>\n",
       "      <td>126.000000</td>\n",
       "      <td>126.000000</td>\n",
       "      <td>126.000000</td>\n",
       "      <td>126.000000</td>\n",
       "    </tr>\n",
       "    <tr>\n",
       "      <th>mean</th>\n",
       "      <td>0.471816</td>\n",
       "      <td>0.343313</td>\n",
       "      <td>0.349751</td>\n",
       "      <td>0.310503</td>\n",
       "      <td>0.453949</td>\n",
       "      <td>0.335361</td>\n",
       "      <td>0.324276</td>\n",
       "      <td>0.342888</td>\n",
       "      <td>0.247904</td>\n",
       "      <td>0.285604</td>\n",
       "      <td>...</td>\n",
       "      <td>0.515784</td>\n",
       "      <td>0.550361</td>\n",
       "      <td>0.532142</td>\n",
       "      <td>0.544456</td>\n",
       "      <td>0.562082</td>\n",
       "      <td>0.558427</td>\n",
       "      <td>0.564179</td>\n",
       "      <td>0.560756</td>\n",
       "      <td>0.560977</td>\n",
       "      <td>0.531684</td>\n",
       "    </tr>\n",
       "    <tr>\n",
       "      <th>std</th>\n",
       "      <td>0.124509</td>\n",
       "      <td>0.131044</td>\n",
       "      <td>0.131791</td>\n",
       "      <td>0.136224</td>\n",
       "      <td>0.124894</td>\n",
       "      <td>0.142664</td>\n",
       "      <td>0.131444</td>\n",
       "      <td>0.128932</td>\n",
       "      <td>0.164051</td>\n",
       "      <td>0.149935</td>\n",
       "      <td>...</td>\n",
       "      <td>0.239370</td>\n",
       "      <td>0.239462</td>\n",
       "      <td>0.239891</td>\n",
       "      <td>0.243025</td>\n",
       "      <td>0.263244</td>\n",
       "      <td>0.260043</td>\n",
       "      <td>0.254443</td>\n",
       "      <td>0.254727</td>\n",
       "      <td>0.251730</td>\n",
       "      <td>0.245054</td>\n",
       "    </tr>\n",
       "    <tr>\n",
       "      <th>min</th>\n",
       "      <td>0.000000</td>\n",
       "      <td>0.000000</td>\n",
       "      <td>0.000000</td>\n",
       "      <td>0.000000</td>\n",
       "      <td>0.000000</td>\n",
       "      <td>0.000000</td>\n",
       "      <td>0.000000</td>\n",
       "      <td>0.000000</td>\n",
       "      <td>0.000000</td>\n",
       "      <td>0.000000</td>\n",
       "      <td>...</td>\n",
       "      <td>0.000000</td>\n",
       "      <td>0.000000</td>\n",
       "      <td>0.000000</td>\n",
       "      <td>0.000000</td>\n",
       "      <td>0.000000</td>\n",
       "      <td>0.000000</td>\n",
       "      <td>0.000000</td>\n",
       "      <td>0.000000</td>\n",
       "      <td>0.000000</td>\n",
       "      <td>0.000000</td>\n",
       "    </tr>\n",
       "    <tr>\n",
       "      <th>25%</th>\n",
       "      <td>0.422261</td>\n",
       "      <td>0.271097</td>\n",
       "      <td>0.275751</td>\n",
       "      <td>0.234043</td>\n",
       "      <td>0.386089</td>\n",
       "      <td>0.262115</td>\n",
       "      <td>0.250980</td>\n",
       "      <td>0.269231</td>\n",
       "      <td>0.155128</td>\n",
       "      <td>0.200231</td>\n",
       "      <td>...</td>\n",
       "      <td>0.380341</td>\n",
       "      <td>0.403308</td>\n",
       "      <td>0.391238</td>\n",
       "      <td>0.410510</td>\n",
       "      <td>0.410039</td>\n",
       "      <td>0.406773</td>\n",
       "      <td>0.412603</td>\n",
       "      <td>0.404206</td>\n",
       "      <td>0.409951</td>\n",
       "      <td>0.394261</td>\n",
       "    </tr>\n",
       "    <tr>\n",
       "      <th>50%</th>\n",
       "      <td>0.466431</td>\n",
       "      <td>0.329114</td>\n",
       "      <td>0.330472</td>\n",
       "      <td>0.293617</td>\n",
       "      <td>0.439516</td>\n",
       "      <td>0.321586</td>\n",
       "      <td>0.309804</td>\n",
       "      <td>0.319231</td>\n",
       "      <td>0.217949</td>\n",
       "      <td>0.259259</td>\n",
       "      <td>...</td>\n",
       "      <td>0.479908</td>\n",
       "      <td>0.526209</td>\n",
       "      <td>0.501528</td>\n",
       "      <td>0.502341</td>\n",
       "      <td>0.514100</td>\n",
       "      <td>0.514493</td>\n",
       "      <td>0.517534</td>\n",
       "      <td>0.522540</td>\n",
       "      <td>0.515955</td>\n",
       "      <td>0.499476</td>\n",
       "    </tr>\n",
       "    <tr>\n",
       "      <th>75%</th>\n",
       "      <td>0.540636</td>\n",
       "      <td>0.413502</td>\n",
       "      <td>0.416309</td>\n",
       "      <td>0.382979</td>\n",
       "      <td>0.523185</td>\n",
       "      <td>0.417401</td>\n",
       "      <td>0.388235</td>\n",
       "      <td>0.413462</td>\n",
       "      <td>0.332051</td>\n",
       "      <td>0.361111</td>\n",
       "      <td>...</td>\n",
       "      <td>0.722152</td>\n",
       "      <td>0.766412</td>\n",
       "      <td>0.745160</td>\n",
       "      <td>0.757544</td>\n",
       "      <td>0.801607</td>\n",
       "      <td>0.786929</td>\n",
       "      <td>0.797534</td>\n",
       "      <td>0.785184</td>\n",
       "      <td>0.787317</td>\n",
       "      <td>0.746593</td>\n",
       "    </tr>\n",
       "    <tr>\n",
       "      <th>max</th>\n",
       "      <td>1.000000</td>\n",
       "      <td>1.000000</td>\n",
       "      <td>1.000000</td>\n",
       "      <td>1.000000</td>\n",
       "      <td>1.000000</td>\n",
       "      <td>1.000000</td>\n",
       "      <td>1.000000</td>\n",
       "      <td>1.000000</td>\n",
       "      <td>1.000000</td>\n",
       "      <td>1.000000</td>\n",
       "      <td>...</td>\n",
       "      <td>1.000000</td>\n",
       "      <td>1.000000</td>\n",
       "      <td>1.000000</td>\n",
       "      <td>1.000000</td>\n",
       "      <td>1.000000</td>\n",
       "      <td>1.000000</td>\n",
       "      <td>1.000000</td>\n",
       "      <td>1.000000</td>\n",
       "      <td>1.000000</td>\n",
       "      <td>1.000000</td>\n",
       "    </tr>\n",
       "  </tbody>\n",
       "</table>\n",
       "<p>8 rows × 900 columns</p>\n",
       "</div>"
      ],
      "text/plain": [
       "          Acc_x_0     Acc_x_1     Acc_x_2     Acc_x_3     Acc_x_4     Acc_x_5  \\\n",
       "count  126.000000  126.000000  126.000000  126.000000  126.000000  126.000000   \n",
       "mean     0.471816    0.343313    0.349751    0.310503    0.453949    0.335361   \n",
       "std      0.124509    0.131044    0.131791    0.136224    0.124894    0.142664   \n",
       "min      0.000000    0.000000    0.000000    0.000000    0.000000    0.000000   \n",
       "25%      0.422261    0.271097    0.275751    0.234043    0.386089    0.262115   \n",
       "50%      0.466431    0.329114    0.330472    0.293617    0.439516    0.321586   \n",
       "75%      0.540636    0.413502    0.416309    0.382979    0.523185    0.417401   \n",
       "max      1.000000    1.000000    1.000000    1.000000    1.000000    1.000000   \n",
       "\n",
       "          Acc_x_6     Acc_x_7     Acc_x_8     Acc_x_9     ...       Mag_z_140  \\\n",
       "count  126.000000  126.000000  126.000000  126.000000     ...      126.000000   \n",
       "mean     0.324276    0.342888    0.247904    0.285604     ...        0.515784   \n",
       "std      0.131444    0.128932    0.164051    0.149935     ...        0.239370   \n",
       "min      0.000000    0.000000    0.000000    0.000000     ...        0.000000   \n",
       "25%      0.250980    0.269231    0.155128    0.200231     ...        0.380341   \n",
       "50%      0.309804    0.319231    0.217949    0.259259     ...        0.479908   \n",
       "75%      0.388235    0.413462    0.332051    0.361111     ...        0.722152   \n",
       "max      1.000000    1.000000    1.000000    1.000000     ...        1.000000   \n",
       "\n",
       "        Mag_z_141   Mag_z_142   Mag_z_143   Mag_z_144   Mag_z_145   Mag_z_146  \\\n",
       "count  126.000000  126.000000  126.000000  126.000000  126.000000  126.000000   \n",
       "mean     0.550361    0.532142    0.544456    0.562082    0.558427    0.564179   \n",
       "std      0.239462    0.239891    0.243025    0.263244    0.260043    0.254443   \n",
       "min      0.000000    0.000000    0.000000    0.000000    0.000000    0.000000   \n",
       "25%      0.403308    0.391238    0.410510    0.410039    0.406773    0.412603   \n",
       "50%      0.526209    0.501528    0.502341    0.514100    0.514493    0.517534   \n",
       "75%      0.766412    0.745160    0.757544    0.801607    0.786929    0.797534   \n",
       "max      1.000000    1.000000    1.000000    1.000000    1.000000    1.000000   \n",
       "\n",
       "        Mag_z_147   Mag_z_148   Mag_z_149  \n",
       "count  126.000000  126.000000  126.000000  \n",
       "mean     0.560756    0.560977    0.531684  \n",
       "std      0.254727    0.251730    0.245054  \n",
       "min      0.000000    0.000000    0.000000  \n",
       "25%      0.404206    0.409951    0.394261  \n",
       "50%      0.522540    0.515955    0.499476  \n",
       "75%      0.785184    0.787317    0.746593  \n",
       "max      1.000000    1.000000    1.000000  \n",
       "\n",
       "[8 rows x 900 columns]"
      ]
     },
     "execution_count": 24,
     "metadata": {},
     "output_type": "execute_result"
    }
   ],
   "source": [
    "from sklearn.preprocessing import minmax_scale\n",
    "X_ass_norm =minmax_scale(X_assembled, copy=True, feature_range=(0, 1))\n",
    "tmp = X_assembled.columns\n",
    "X_ass_norm = pd.DataFrame(X_ass_norm)\n",
    "X_ass_norm.columns=tmp\n",
    "X_ass_norm.describe()"
   ]
  },
  {
   "cell_type": "markdown",
   "metadata": {
    "colab_type": "text",
    "id": "016_R2N9DlmQ",
    "slideshow": {
     "slide_type": "slide"
    }
   },
   "source": [
    "### New features generation"
   ]
  },
  {
   "cell_type": "markdown",
   "metadata": {
    "colab_type": "text",
    "id": "Ri4LIMQNAauE",
    "slideshow": {
     "slide_type": "-"
    }
   },
   "source": [
    "There are too many columns for learning. In this case relation between result quality and computational power is irrational. It's better to generate new features. One way to do it is to extract physically logical features from person behavior.\n"
   ]
  },
  {
   "cell_type": "code",
   "execution_count": 25,
   "metadata": {
    "colab": {},
    "colab_type": "code",
    "id": "ZAGUzjPPCv_L",
    "slideshow": {
     "slide_type": "skip"
    }
   },
   "outputs": [],
   "source": [
    "coord_names = list(rename_dict.values())\n",
    "mask_noone = df['people_id'] == 'noone'\n",
    "df_noone = df.loc[mask_noone, :]\n",
    "\n",
    "means_noone = df_noone.loc[:, coord_names].mean(axis=0)\n",
    "stds_noone = df_noone.loc[:, coord_names].std(axis=0)\n",
    "\n",
    "means_noone.name = 'mean'\n",
    "stds_noone.name = 'std'\n",
    "\n",
    "means_stds = pd.DataFrame([means_noone, stds_noone]).T"
   ]
  },
  {
   "cell_type": "markdown",
   "metadata": {
    "colab_type": "text",
    "id": "2PkBmMPbEL-H",
    "slideshow": {
     "slide_type": "skip"
    }
   },
   "source": [
    "Movement time  calculation along Z axis( swing on chair)"
   ]
  },
  {
   "cell_type": "code",
   "execution_count": 26,
   "metadata": {
    "colab": {},
    "colab_type": "code",
    "id": "MpWo1W0zAySL",
    "slideshow": {
     "slide_type": "skip"
    }
   },
   "outputs": [],
   "source": [
    "def get_lean_back_portion(acc_z, means_stds=means_stds, n_sigma=5):\n",
    "    acc_z_mean = means_stds.loc['Acc_z', 'mean']\n",
    "    acc_z_std = means_stds.loc['Acc_z', 'std']\n",
    "    \n",
    "    acc_z_min = acc_z_mean - n_sigma * acc_z_std\n",
    "    acc_z_max = acc_z_mean + n_sigma * acc_z_std\n",
    "    \n",
    "    lean_back_portion = (acc_z < acc_z_min).mean()\n",
    "    return lean_back_portion"
   ]
  },
  {
   "cell_type": "markdown",
   "metadata": {
    "colab_type": "text",
    "id": "DjiISLvyAySM",
    "slideshow": {
     "slide_type": "skip"
    }
   },
   "source": [
    "Movement time calculation along X and Y axis( twisting  on chair)\n",
    "Limitation values are established and used for movement detection. "
   ]
  },
  {
   "cell_type": "code",
   "execution_count": 27,
   "metadata": {
    "colab": {},
    "colab_type": "code",
    "id": "lvvkA-lrAySN",
    "slideshow": {
     "slide_type": "skip"
    }
   },
   "outputs": [],
   "source": [
    "\n",
    "def get_mess_mask_acc(acc_data, percentile2crop=10, n_sigma=10):\n",
    "    lower_bound, upper_bound, median = np.percentile(acc_data, [percentile2crop, 100 - percentile2crop, 50])\n",
    "    acc_data_filtered = acc_data[(lower_bound < acc_data) & (acc_data < upper_bound)]\n",
    "    std = np.std(acc_data_filtered)\n",
    "    oscillation = std / (25 * n_sigma)\n",
    "    calm_state_lower_bound = median - n_sigma * std\n",
    "    calm_state_upper_bound = median + n_sigma * std\n",
    "    mask_calm = ((calm_state_lower_bound < acc_data) & (acc_data < calm_state_upper_bound))\n",
    "    return mask_calm, oscillation\n",
    "\n"
   ]
  },
  {
   "cell_type": "code",
   "execution_count": 28,
   "metadata": {
    "colab": {
     "base_uri": "https://localhost:8080/",
     "height": 104
    },
    "colab_type": "code",
    "id": "bJziM5s2rpwK",
    "outputId": "046441a6-d838-4eef-cfce-697ff78db0fb",
    "slideshow": {
     "slide_type": "skip"
    }
   },
   "outputs": [],
   "source": [
    "sensor_data_colnames = ['Acc_x', 'Acc_y', 'Acc_z', 'Mag_x', 'Mag_y', 'Mag_z']\n",
    "X_ass_add = X_assembled.copy()\n",
    "X_ass_add = X_ass_add.drop(sensor_data_colnames, axis=1, errors='ignore')\n",
    "\n",
    "for sensor_colname in sensor_data_colnames:\n",
    "  columns2parse = [colname for colname in X_ass_add.columns if colname.startswith(sensor_colname)]\n",
    "  X_ass_add[sensor_colname] = None\n",
    "\n",
    "  for index in X_ass_add.index:\n",
    "    X_ass_add[sensor_colname][index] = (X_ass_add.loc[index, columns2parse].values)"
   ]
  },
  {
   "cell_type": "code",
   "execution_count": 29,
   "metadata": {
    "colab": {},
    "colab_type": "code",
    "id": "nJA1e0101_2C",
    "slideshow": {
     "slide_type": "skip"
    }
   },
   "outputs": [],
   "source": [
    "from scipy.interpolate import splrep, splev"
   ]
  },
  {
   "cell_type": "code",
   "execution_count": 30,
   "metadata": {
    "colab": {},
    "colab_type": "code",
    "id": "vXSK7zLOrLV-",
    "slideshow": {
     "slide_type": "skip"
    }
   },
   "outputs": [],
   "source": [
    "def get_mess_mask_mag(mag_data, w=0.05, max_calm_derivative=30):\n",
    "    # Spline approximation\n",
    "    y = mag_data\n",
    "    x = np.arange(len(y))\n",
    "    splines = splrep(x, y, w=w * np.ones_like(y))\n",
    "    points = splev(x, splines, der=0)\n",
    "    derivatives = splev(x, splines, der=1)\n",
    "    \n",
    "    mask_calm = abs(derivatives) < max_calm_derivative\n",
    "    \n",
    "#     return points, derivatives\n",
    "    return mask_calm"
   ]
  },
  {
   "cell_type": "code",
   "execution_count": 31,
   "metadata": {
    "colab": {
     "base_uri": "https://localhost:8080/",
     "height": 295
    },
    "colab_type": "code",
    "id": "R2NEX_xx2BCD",
    "outputId": "483900c4-78bf-4f9f-8259-fbf44644d4ff",
    "slideshow": {
     "slide_type": "skip"
    }
   },
   "outputs": [],
   "source": [
    "X_ass_add['Momentum'] = None\n",
    "X_ass_add['Oscillations'] = None\n",
    "X_ass_add['Rotational movement'] = None\n",
    "X_ass_add['Lean back'] = None\n",
    "\n",
    "for index in X_ass_add.index:\n",
    "  mask_calm_acc_x, oscillation_acc_x = get_mess_mask_acc(X_ass_add['Acc_x'][index])\n",
    "  mask_calm_acc_y, oscillation_acc_y = get_mess_mask_acc(X_ass_add['Acc_y'][index])\n",
    "  mask_calm_acc_z, oscillation_acc_z = get_mess_mask_acc(X_ass_add['Acc_z'][index])\n",
    "\n",
    "  mess_portion_acc_x = 1 - mask_calm_acc_x.mean()\n",
    "  mess_portion_acc_y = 1 - mask_calm_acc_y.mean()\n",
    "  mess_portion_acc_z = 1 - mask_calm_acc_z.mean()\n",
    "\n",
    "  mess_portion_acc = (oscillation_acc_x + oscillation_acc_y + oscillation_acc_z) / 3\n",
    "\n",
    "  mask_calm_acc = mask_calm_acc_x & mask_calm_acc_y & mask_calm_acc_z\n",
    "  mess_portion_acc = 1 - mask_calm_acc.mean()\n",
    "  \n",
    "  mask_calm_mag_x = get_mess_mask_mag(X_ass_add['Mag_x'][index])\n",
    "  mask_calm_mag_y = get_mess_mask_mag(X_ass_add['Mag_y'][index])\n",
    "  mask_calm_mag_z = get_mess_mask_mag(X_ass_add['Mag_z'][index])\n",
    "\n",
    "  mess_portion_mag_x = 1 - mask_calm_mag_x.mean()\n",
    "  mess_portion_mag_y = 1 - mask_calm_mag_y.mean()\n",
    "  mess_portion_mag_z = 1 - mask_calm_mag_z.mean()\n",
    "\n",
    "  mask_calm_mag = mask_calm_mag_x & mask_calm_mag_y & mask_calm_mag_z\n",
    "  mess_portion_mag = 1 - mask_calm_mag.mean()\n",
    "  \n",
    "  X_ass_add['Lean back'][index] = get_lean_back_portion(X_ass_add['Acc_z'][index])\n",
    "  X_ass_add['Momentum'][index] = mess_portion_acc\n",
    "  X_ass_add['Oscillations'][index] = oscillation_acc_z\n",
    "  X_ass_add['Rotational movement'][index] = mess_portion_mag"
   ]
  },
  {
   "cell_type": "markdown",
   "metadata": {
    "colab_type": "text",
    "id": "hJjSlZZuG_sA",
    "slideshow": {
     "slide_type": "slide"
    }
   },
   "source": [
    "### Generated feature"
   ]
  },
  {
   "cell_type": "code",
   "execution_count": 32,
   "metadata": {
    "colab": {},
    "colab_type": "code",
    "id": "hF8VcjRw4xds",
    "slideshow": {
     "slide_type": "-"
    }
   },
   "outputs": [],
   "source": [
    "df_features = X_ass_add[['Lean back', 'Momentum', 'Rotational movement','Oscillations']]\n",
    "X_ass_add = X_ass_add.drop(['Acc_x', 'Acc_y', 'Acc_z', 'Mag_x', 'Mag_y', 'Mag_z'], axis = 1)"
   ]
  },
  {
   "cell_type": "code",
   "execution_count": 33,
   "metadata": {
    "colab": {
     "base_uri": "https://localhost:8080/",
     "height": 1969
    },
    "colab_type": "code",
    "id": "M_zOZz62H-oy",
    "outputId": "617d6b07-8e7b-4401-812e-965ddebe7e25",
    "slideshow": {
     "slide_type": "-"
    }
   },
   "outputs": [
    {
     "data": {
      "text/html": [
       "<div>\n",
       "<style scoped>\n",
       "    .dataframe tbody tr th:only-of-type {\n",
       "        vertical-align: middle;\n",
       "    }\n",
       "\n",
       "    .dataframe tbody tr th {\n",
       "        vertical-align: top;\n",
       "    }\n",
       "\n",
       "    .dataframe thead th {\n",
       "        text-align: right;\n",
       "    }\n",
       "</style>\n",
       "<table border=\"1\" class=\"dataframe\">\n",
       "  <thead>\n",
       "    <tr style=\"text-align: right;\">\n",
       "      <th></th>\n",
       "      <th>Lean back</th>\n",
       "      <th>Momentum</th>\n",
       "      <th>Rotational movement</th>\n",
       "      <th>Oscillations</th>\n",
       "    </tr>\n",
       "  </thead>\n",
       "  <tbody>\n",
       "    <tr>\n",
       "      <th>0</th>\n",
       "      <td>0.08</td>\n",
       "      <td>0</td>\n",
       "      <td>0.0933333</td>\n",
       "      <td>0.0777618</td>\n",
       "    </tr>\n",
       "    <tr>\n",
       "      <th>1</th>\n",
       "      <td>0.193333</td>\n",
       "      <td>0</td>\n",
       "      <td>0.0733333</td>\n",
       "      <td>0.133965</td>\n",
       "    </tr>\n",
       "    <tr>\n",
       "      <th>2</th>\n",
       "      <td>0.273333</td>\n",
       "      <td>0.02</td>\n",
       "      <td>0.186667</td>\n",
       "      <td>0.179571</td>\n",
       "    </tr>\n",
       "    <tr>\n",
       "      <th>3</th>\n",
       "      <td>0.36</td>\n",
       "      <td>0</td>\n",
       "      <td>0.0333333</td>\n",
       "      <td>0.274186</td>\n",
       "    </tr>\n",
       "    <tr>\n",
       "      <th>4</th>\n",
       "      <td>0.16</td>\n",
       "      <td>0</td>\n",
       "      <td>0.293333</td>\n",
       "      <td>0.118661</td>\n",
       "    </tr>\n",
       "  </tbody>\n",
       "</table>\n",
       "</div>"
      ],
      "text/plain": [
       "  Lean back Momentum Rotational movement Oscillations\n",
       "0      0.08        0           0.0933333    0.0777618\n",
       "1  0.193333        0           0.0733333     0.133965\n",
       "2  0.273333     0.02            0.186667     0.179571\n",
       "3      0.36        0           0.0333333     0.274186\n",
       "4      0.16        0            0.293333     0.118661"
      ]
     },
     "execution_count": 33,
     "metadata": {},
     "output_type": "execute_result"
    }
   ],
   "source": [
    "df_features.head()"
   ]
  },
  {
   "cell_type": "markdown",
   "metadata": {
    "colab_type": "text",
    "id": "wo21gzt7L4cZ",
    "slideshow": {
     "slide_type": "slide"
    }
   },
   "source": [
    "### Making y, which is equal to 126 experiments.\n"
   ]
  },
  {
   "cell_type": "code",
   "execution_count": 34,
   "metadata": {
    "colab": {},
    "colab_type": "code",
    "id": "0CmqqmNEJuSv",
    "slideshow": {
     "slide_type": "-"
    }
   },
   "outputs": [],
   "source": [
    "y_new = []\n",
    "for i in range(0, int(y.shape[0]/num_timestamp)):\n",
    "  y_new.append(int((y[i*num_timestamp:(i+1)*num_timestamp].unique()[0])))\n",
    "y_new = np.array(y_new) \n",
    "y_new = y_new.reshape(-1,1)\n",
    "#y_new"
   ]
  },
  {
   "cell_type": "code",
   "execution_count": 35,
   "metadata": {
    "colab": {},
    "colab_type": "code",
    "id": "9cXziDmRaw5A",
    "slideshow": {
     "slide_type": "-"
    }
   },
   "outputs": [],
   "source": [
    "y_new_clean = y_new.copy()"
   ]
  },
  {
   "cell_type": "markdown",
   "metadata": {
    "colab_type": "text",
    "id": "SATgTni4CI0P",
    "slideshow": {
     "slide_type": "slide"
    }
   },
   "source": [
    "### Let's prepare experiments for binary classification and have a look at stress level distribution in dataset"
   ]
  },
  {
   "cell_type": "code",
   "execution_count": 36,
   "metadata": {
    "colab": {},
    "colab_type": "code",
    "id": "46BWSa7jZ1Km",
    "slideshow": {
     "slide_type": "-"
    }
   },
   "outputs": [],
   "source": [
    "from sklearn.preprocessing import Binarizer\n",
    "def threshbin(threshold, y ):\n",
    "    binar = Binarizer(copy=True, threshold=threshold).fit(y) # copy to new target \n",
    "    return binar.transform(y)"
   ]
  },
  {
   "cell_type": "code",
   "execution_count": 37,
   "metadata": {
    "colab": {
     "base_uri": "https://localhost:8080/",
     "height": 705
    },
    "colab_type": "code",
    "id": "Vje4xJksYpq4",
    "outputId": "346e144e-d4a9-4e22-987a-0c05156fe057",
    "slideshow": {
     "slide_type": "-"
    }
   },
   "outputs": [
    {
     "name": "stdout",
     "output_type": "stream",
     "text": [
      "0    66\n",
      "dtype: int64\n",
      "0    60\n",
      "dtype: int64\n"
     ]
    }
   ],
   "source": [
    "y_new_4 = y_new/100\n",
    "y_new_4\n",
    "y_new_4 = pd.DataFrame(threshbin(0.64, y_new_4))\n",
    "print(y_new_4[y_new_4==0].count())\n",
    "print(y_new_4[y_new_4==1].count())\n",
    "\n"
   ]
  },
  {
   "cell_type": "code",
   "execution_count": 38,
   "metadata": {
    "slideshow": {
     "slide_type": "slide"
    }
   },
   "outputs": [
    {
     "data": {
      "text/plain": [
       "<matplotlib.legend.Legend at 0x18bf8eb7d68>"
      ]
     },
     "execution_count": 38,
     "metadata": {},
     "output_type": "execute_result"
    },
    {
     "data": {
      "image/png": "[encoded data removed]",
      "text/plain": [
       "<Figure size 720x360 with 1 Axes>"
      ]
     },
     "metadata": {},
     "output_type": "display_data"
    }
   ],
   "source": [
    "plt.figure(figsize=(10,5))\n",
    "plt.hist(y_new_4.values, bins = 7); #We added 7 bins to clearly see that there are only 0 and 1 labels. \n",
    "plt.title('Label dependencies')\n",
    "plt.xlabel('Yes/no stress')\n",
    "plt.ylabel('Number of expirements by class')\n",
    "plt.legend(y_new_4.mean())"
   ]
  },
  {
   "cell_type": "markdown",
   "metadata": {
    "colab_type": "text",
    "id": "XdQq0KJnATop",
    "slideshow": {
     "slide_type": "slide"
    }
   },
   "source": [
    "### Let's prepare our data for multilabel classification and have a look at stress level distribution in dataset"
   ]
  },
  {
   "cell_type": "code",
   "execution_count": 39,
   "metadata": {
    "colab": {},
    "colab_type": "code",
    "id": "qseVpdlAwvTF",
    "slideshow": {
     "slide_type": "-"
    }
   },
   "outputs": [],
   "source": [
    "y_new_multi = y_new.copy()\n",
    "\n",
    "for i in range(0, y_new_multi.shape[0]):\n",
    "  if (y_new_multi[i]<=25):\n",
    "    y_new_multi[i] = 0\n",
    "  elif(y_new_multi[i]<=50): \n",
    "    y_new_multi[i] = 1\n",
    "  elif(y_new_multi[i]<=75): \n",
    "    y_new_multi[i] = 2\n",
    "  else:\n",
    "    y_new_multi[i]=3"
   ]
  },
  {
   "cell_type": "code",
   "execution_count": 40,
   "metadata": {
    "colab": {
     "base_uri": "https://localhost:8080/",
     "height": 2159
    },
    "colab_type": "code",
    "id": "0jx1zU8nmkp_",
    "outputId": "1360ccb8-ea49-41b0-d6a4-0871e8c33fb1",
    "slideshow": {
     "slide_type": "-"
    }
   },
   "outputs": [],
   "source": [
    "from sklearn.preprocessing import MultiLabelBinarizer\n",
    "mlb = MultiLabelBinarizer()\n",
    "y_new_multi_4 = (mlb.fit_transform(y_new_multi))\n"
   ]
  },
  {
   "cell_type": "code",
   "execution_count": 41,
   "metadata": {
    "colab": {
     "base_uri": "https://localhost:8080/",
     "height": 637
    },
    "colab_type": "code",
    "id": "C7sg5Fhk7Tqn",
    "outputId": "a1e7fd91-164f-417d-bc7b-46ffe93c18c3",
    "slideshow": {
     "slide_type": "slide"
    }
   },
   "outputs": [
    {
     "data": {
      "text/plain": [
       "Text(0, 0.5, 'Number of expirements by class')"
      ]
     },
     "execution_count": 41,
     "metadata": {},
     "output_type": "execute_result"
    },
    {
     "data": {
      "image/png": "[encoded data removed]",
      "text/plain": [
       "<Figure size 1080x432 with 1 Axes>"
      ]
     },
     "metadata": {},
     "output_type": "display_data"
    }
   ],
   "source": [
    "plt.figure(figsize=(15,6))\n",
    "plt.subplot(1,2,2)\n",
    "plt.hist(y_new_multi, bins = 7); #We added 7 bins to clearly see that there are only 0 and 1 labels. \n",
    "plt.title('Multi-label dependencies')\n",
    "plt.xlabel('From no stress to max_stress level')\n",
    "plt.ylabel('Number of expirements by class')"
   ]
  },
  {
   "cell_type": "markdown",
   "metadata": {
    "colab_type": "text",
    "id": "9VYljug7-gdr",
    "slideshow": {
     "slide_type": "slide"
    }
   },
   "source": [
    "# Visualization"
   ]
  },
  {
   "cell_type": "markdown",
   "metadata": {
    "colab_type": "text",
    "id": "VOgtdwuu-nPc",
    "slideshow": {
     "slide_type": "slide"
    }
   },
   "source": [
    "### Visualization of two conditions\n",
    "\n",
    " \n",
    "1.   Normal  person condition dataset\n",
    "2.   Stress person condition dataset for the same person \n",
    "\n"
   ]
  },
  {
   "cell_type": "code",
   "execution_count": 42,
   "metadata": {
    "colab": {
     "base_uri": "https://localhost:8080/",
     "height": 786
    },
    "colab_type": "code",
    "id": "orHODb7R-om0",
    "outputId": "2209d484-1f1a-424d-bd74-8383e4b8c9f0",
    "slideshow": {
     "slide_type": "skip"
    }
   },
   "outputs": [
    {
     "ename": "KeyError",
     "evalue": "'[   0    1    2 ... 1797 1798 1799] not in index'",
     "output_type": "error",
     "traceback": [
      "\u001b[1;31m---------------------------------------------------------------------------\u001b[0m",
      "\u001b[1;31mKeyError\u001b[0m                                  Traceback (most recent call last)",
      "\u001b[1;32m<ipython-input-42-c23aa701401b>\u001b[0m in \u001b[0;36m<module>\u001b[1;34m()\u001b[0m\n\u001b[0;32m      4\u001b[0m df[df.people_id == 'Rost2'].plot(ax=ax[0], title='Rostic in stress',\n\u001b[0;32m      5\u001b[0m                            \u001b[0mx\u001b[0m\u001b[1;33m=\u001b[0m\u001b[0mnp\u001b[0m\u001b[1;33m.\u001b[0m\u001b[0marray\u001b[0m\u001b[1;33m(\u001b[0m\u001b[0mrange\u001b[0m\u001b[1;33m(\u001b[0m\u001b[0mdf\u001b[0m\u001b[1;33m[\u001b[0m\u001b[0mdf\u001b[0m\u001b[1;33m.\u001b[0m\u001b[0mpeople_id\u001b[0m \u001b[1;33m==\u001b[0m \u001b[1;34m'Rost2'\u001b[0m\u001b[1;33m]\u001b[0m\u001b[1;33m.\u001b[0m\u001b[0mshape\u001b[0m\u001b[1;33m[\u001b[0m\u001b[1;36m0\u001b[0m\u001b[1;33m]\u001b[0m\u001b[1;33m)\u001b[0m\u001b[1;33m)\u001b[0m\u001b[1;33m,\u001b[0m\u001b[1;33m\u001b[0m\u001b[0m\n\u001b[1;32m----> 6\u001b[1;33m                            y=df.columns.drop('Mag_z', 'label'))\n\u001b[0m\u001b[0;32m      7\u001b[0m df[df.people_id == 'Rost'].plot(ax=ax[1], title='Person in normal condition', \n\u001b[0;32m      8\u001b[0m                          \u001b[0mx\u001b[0m\u001b[1;33m=\u001b[0m\u001b[0mnp\u001b[0m\u001b[1;33m.\u001b[0m\u001b[0marray\u001b[0m\u001b[1;33m(\u001b[0m\u001b[0mrange\u001b[0m\u001b[1;33m(\u001b[0m\u001b[0mdf\u001b[0m\u001b[1;33m[\u001b[0m\u001b[0mdf\u001b[0m\u001b[1;33m.\u001b[0m\u001b[0mpeople_id\u001b[0m \u001b[1;33m==\u001b[0m \u001b[1;34m'Rost'\u001b[0m\u001b[1;33m]\u001b[0m\u001b[1;33m.\u001b[0m\u001b[0mshape\u001b[0m\u001b[1;33m[\u001b[0m\u001b[1;36m0\u001b[0m\u001b[1;33m]\u001b[0m\u001b[1;33m)\u001b[0m\u001b[1;33m)\u001b[0m\u001b[1;33m,\u001b[0m\u001b[1;33m\u001b[0m\u001b[0m\n",
      "\u001b[1;32m~\\Anaconda3\\lib\\site-packages\\pandas\\plotting\\_core.py\u001b[0m in \u001b[0;36m__call__\u001b[1;34m(self, x, y, kind, ax, subplots, sharex, sharey, layout, figsize, use_index, title, grid, legend, style, logx, logy, loglog, xticks, yticks, xlim, ylim, rot, fontsize, colormap, table, yerr, xerr, secondary_y, sort_columns, **kwds)\u001b[0m\n\u001b[0;32m   2939\u001b[0m                           \u001b[0mfontsize\u001b[0m\u001b[1;33m=\u001b[0m\u001b[0mfontsize\u001b[0m\u001b[1;33m,\u001b[0m \u001b[0mcolormap\u001b[0m\u001b[1;33m=\u001b[0m\u001b[0mcolormap\u001b[0m\u001b[1;33m,\u001b[0m \u001b[0mtable\u001b[0m\u001b[1;33m=\u001b[0m\u001b[0mtable\u001b[0m\u001b[1;33m,\u001b[0m\u001b[1;33m\u001b[0m\u001b[0m\n\u001b[0;32m   2940\u001b[0m                           \u001b[0myerr\u001b[0m\u001b[1;33m=\u001b[0m\u001b[0myerr\u001b[0m\u001b[1;33m,\u001b[0m \u001b[0mxerr\u001b[0m\u001b[1;33m=\u001b[0m\u001b[0mxerr\u001b[0m\u001b[1;33m,\u001b[0m \u001b[0msecondary_y\u001b[0m\u001b[1;33m=\u001b[0m\u001b[0msecondary_y\u001b[0m\u001b[1;33m,\u001b[0m\u001b[1;33m\u001b[0m\u001b[0m\n\u001b[1;32m-> 2941\u001b[1;33m                           sort_columns=sort_columns, **kwds)\n\u001b[0m\u001b[0;32m   2942\u001b[0m     \u001b[0m__call__\u001b[0m\u001b[1;33m.\u001b[0m\u001b[0m__doc__\u001b[0m \u001b[1;33m=\u001b[0m \u001b[0mplot_frame\u001b[0m\u001b[1;33m.\u001b[0m\u001b[0m__doc__\u001b[0m\u001b[1;33m\u001b[0m\u001b[0m\n\u001b[0;32m   2943\u001b[0m \u001b[1;33m\u001b[0m\u001b[0m\n",
      "\u001b[1;32m~\\Anaconda3\\lib\\site-packages\\pandas\\plotting\\_core.py\u001b[0m in \u001b[0;36mplot_frame\u001b[1;34m(data, x, y, kind, ax, subplots, sharex, sharey, layout, figsize, use_index, title, grid, legend, style, logx, logy, loglog, xticks, yticks, xlim, ylim, rot, fontsize, colormap, table, yerr, xerr, secondary_y, sort_columns, **kwds)\u001b[0m\n\u001b[0;32m   1975\u001b[0m                  \u001b[0myerr\u001b[0m\u001b[1;33m=\u001b[0m\u001b[0myerr\u001b[0m\u001b[1;33m,\u001b[0m \u001b[0mxerr\u001b[0m\u001b[1;33m=\u001b[0m\u001b[0mxerr\u001b[0m\u001b[1;33m,\u001b[0m\u001b[1;33m\u001b[0m\u001b[0m\n\u001b[0;32m   1976\u001b[0m                  \u001b[0msecondary_y\u001b[0m\u001b[1;33m=\u001b[0m\u001b[0msecondary_y\u001b[0m\u001b[1;33m,\u001b[0m \u001b[0msort_columns\u001b[0m\u001b[1;33m=\u001b[0m\u001b[0msort_columns\u001b[0m\u001b[1;33m,\u001b[0m\u001b[1;33m\u001b[0m\u001b[0m\n\u001b[1;32m-> 1977\u001b[1;33m                  **kwds)\n\u001b[0m\u001b[0;32m   1978\u001b[0m \u001b[1;33m\u001b[0m\u001b[0m\n\u001b[0;32m   1979\u001b[0m \u001b[1;33m\u001b[0m\u001b[0m\n",
      "\u001b[1;32m~\\Anaconda3\\lib\\site-packages\\pandas\\plotting\\_core.py\u001b[0m in \u001b[0;36m_plot\u001b[1;34m(data, x, y, subplots, ax, kind, **kwds)\u001b[0m\n\u001b[0;32m   1764\u001b[0m                 \u001b[1;32mif\u001b[0m \u001b[0mis_integer\u001b[0m\u001b[1;33m(\u001b[0m\u001b[0mx\u001b[0m\u001b[1;33m)\u001b[0m \u001b[1;32mand\u001b[0m \u001b[1;32mnot\u001b[0m \u001b[0mdata\u001b[0m\u001b[1;33m.\u001b[0m\u001b[0mcolumns\u001b[0m\u001b[1;33m.\u001b[0m\u001b[0mholds_integer\u001b[0m\u001b[1;33m(\u001b[0m\u001b[1;33m)\u001b[0m\u001b[1;33m:\u001b[0m\u001b[1;33m\u001b[0m\u001b[0m\n\u001b[0;32m   1765\u001b[0m                     \u001b[0mx\u001b[0m \u001b[1;33m=\u001b[0m \u001b[0mdata_cols\u001b[0m\u001b[1;33m[\u001b[0m\u001b[0mx\u001b[0m\u001b[1;33m]\u001b[0m\u001b[1;33m\u001b[0m\u001b[0m\n\u001b[1;32m-> 1766\u001b[1;33m                 \u001b[1;32melif\u001b[0m \u001b[1;32mnot\u001b[0m \u001b[0misinstance\u001b[0m\u001b[1;33m(\u001b[0m\u001b[0mdata\u001b[0m\u001b[1;33m[\u001b[0m\u001b[0mx\u001b[0m\u001b[1;33m]\u001b[0m\u001b[1;33m,\u001b[0m \u001b[0mABCSeries\u001b[0m\u001b[1;33m)\u001b[0m\u001b[1;33m:\u001b[0m\u001b[1;33m\u001b[0m\u001b[0m\n\u001b[0m\u001b[0;32m   1767\u001b[0m                     \u001b[1;32mraise\u001b[0m \u001b[0mValueError\u001b[0m\u001b[1;33m(\u001b[0m\u001b[1;34m\"x must be a label or position\"\u001b[0m\u001b[1;33m)\u001b[0m\u001b[1;33m\u001b[0m\u001b[0m\n\u001b[0;32m   1768\u001b[0m                 \u001b[0mdata\u001b[0m \u001b[1;33m=\u001b[0m \u001b[0mdata\u001b[0m\u001b[1;33m.\u001b[0m\u001b[0mset_index\u001b[0m\u001b[1;33m(\u001b[0m\u001b[0mx\u001b[0m\u001b[1;33m)\u001b[0m\u001b[1;33m\u001b[0m\u001b[0m\n",
      "\u001b[1;32m~\\Anaconda3\\lib\\site-packages\\pandas\\core\\frame.py\u001b[0m in \u001b[0;36m__getitem__\u001b[1;34m(self, key)\u001b[0m\n\u001b[0;32m   2680\u001b[0m         \u001b[1;32mif\u001b[0m \u001b[0misinstance\u001b[0m\u001b[1;33m(\u001b[0m\u001b[0mkey\u001b[0m\u001b[1;33m,\u001b[0m \u001b[1;33m(\u001b[0m\u001b[0mSeries\u001b[0m\u001b[1;33m,\u001b[0m \u001b[0mnp\u001b[0m\u001b[1;33m.\u001b[0m\u001b[0mndarray\u001b[0m\u001b[1;33m,\u001b[0m \u001b[0mIndex\u001b[0m\u001b[1;33m,\u001b[0m \u001b[0mlist\u001b[0m\u001b[1;33m)\u001b[0m\u001b[1;33m)\u001b[0m\u001b[1;33m:\u001b[0m\u001b[1;33m\u001b[0m\u001b[0m\n\u001b[0;32m   2681\u001b[0m             \u001b[1;31m# either boolean or fancy integer index\u001b[0m\u001b[1;33m\u001b[0m\u001b[1;33m\u001b[0m\u001b[0m\n\u001b[1;32m-> 2682\u001b[1;33m             \u001b[1;32mreturn\u001b[0m \u001b[0mself\u001b[0m\u001b[1;33m.\u001b[0m\u001b[0m_getitem_array\u001b[0m\u001b[1;33m(\u001b[0m\u001b[0mkey\u001b[0m\u001b[1;33m)\u001b[0m\u001b[1;33m\u001b[0m\u001b[0m\n\u001b[0m\u001b[0;32m   2683\u001b[0m         \u001b[1;32melif\u001b[0m \u001b[0misinstance\u001b[0m\u001b[1;33m(\u001b[0m\u001b[0mkey\u001b[0m\u001b[1;33m,\u001b[0m \u001b[0mDataFrame\u001b[0m\u001b[1;33m)\u001b[0m\u001b[1;33m:\u001b[0m\u001b[1;33m\u001b[0m\u001b[0m\n\u001b[0;32m   2684\u001b[0m             \u001b[1;32mreturn\u001b[0m \u001b[0mself\u001b[0m\u001b[1;33m.\u001b[0m\u001b[0m_getitem_frame\u001b[0m\u001b[1;33m(\u001b[0m\u001b[0mkey\u001b[0m\u001b[1;33m)\u001b[0m\u001b[1;33m\u001b[0m\u001b[0m\n",
      "\u001b[1;32m~\\Anaconda3\\lib\\site-packages\\pandas\\core\\frame.py\u001b[0m in \u001b[0;36m_getitem_array\u001b[1;34m(self, key)\u001b[0m\n\u001b[0;32m   2724\u001b[0m             \u001b[1;32mreturn\u001b[0m \u001b[0mself\u001b[0m\u001b[1;33m.\u001b[0m\u001b[0m_take\u001b[0m\u001b[1;33m(\u001b[0m\u001b[0mindexer\u001b[0m\u001b[1;33m,\u001b[0m \u001b[0maxis\u001b[0m\u001b[1;33m=\u001b[0m\u001b[1;36m0\u001b[0m\u001b[1;33m)\u001b[0m\u001b[1;33m\u001b[0m\u001b[0m\n\u001b[0;32m   2725\u001b[0m         \u001b[1;32melse\u001b[0m\u001b[1;33m:\u001b[0m\u001b[1;33m\u001b[0m\u001b[0m\n\u001b[1;32m-> 2726\u001b[1;33m             \u001b[0mindexer\u001b[0m \u001b[1;33m=\u001b[0m \u001b[0mself\u001b[0m\u001b[1;33m.\u001b[0m\u001b[0mloc\u001b[0m\u001b[1;33m.\u001b[0m\u001b[0m_convert_to_indexer\u001b[0m\u001b[1;33m(\u001b[0m\u001b[0mkey\u001b[0m\u001b[1;33m,\u001b[0m \u001b[0maxis\u001b[0m\u001b[1;33m=\u001b[0m\u001b[1;36m1\u001b[0m\u001b[1;33m)\u001b[0m\u001b[1;33m\u001b[0m\u001b[0m\n\u001b[0m\u001b[0;32m   2727\u001b[0m             \u001b[1;32mreturn\u001b[0m \u001b[0mself\u001b[0m\u001b[1;33m.\u001b[0m\u001b[0m_take\u001b[0m\u001b[1;33m(\u001b[0m\u001b[0mindexer\u001b[0m\u001b[1;33m,\u001b[0m \u001b[0maxis\u001b[0m\u001b[1;33m=\u001b[0m\u001b[1;36m1\u001b[0m\u001b[1;33m)\u001b[0m\u001b[1;33m\u001b[0m\u001b[0m\n\u001b[0;32m   2728\u001b[0m \u001b[1;33m\u001b[0m\u001b[0m\n",
      "\u001b[1;32m~\\Anaconda3\\lib\\site-packages\\pandas\\core\\indexing.py\u001b[0m in \u001b[0;36m_convert_to_indexer\u001b[1;34m(self, obj, axis, is_setter)\u001b[0m\n\u001b[0;32m   1325\u001b[0m                 \u001b[1;32mif\u001b[0m \u001b[0mmask\u001b[0m\u001b[1;33m.\u001b[0m\u001b[0many\u001b[0m\u001b[1;33m(\u001b[0m\u001b[1;33m)\u001b[0m\u001b[1;33m:\u001b[0m\u001b[1;33m\u001b[0m\u001b[0m\n\u001b[0;32m   1326\u001b[0m                     raise KeyError('{mask} not in index'\n\u001b[1;32m-> 1327\u001b[1;33m                                    .format(mask=objarr[mask]))\n\u001b[0m\u001b[0;32m   1328\u001b[0m \u001b[1;33m\u001b[0m\u001b[0m\n\u001b[0;32m   1329\u001b[0m                 \u001b[1;32mreturn\u001b[0m \u001b[0mcom\u001b[0m\u001b[1;33m.\u001b[0m\u001b[0m_values_from_object\u001b[0m\u001b[1;33m(\u001b[0m\u001b[0mindexer\u001b[0m\u001b[1;33m)\u001b[0m\u001b[1;33m\u001b[0m\u001b[0m\n",
      "\u001b[1;31mKeyError\u001b[0m: '[   0    1    2 ... 1797 1798 1799] not in index'"
     ]
    },
    {
     "data": {
      "image/png": "[encoded data removed]",
      "text/plain": [
       "<Figure size 1080x864 with 2 Axes>"
      ]
     },
     "metadata": {},
     "output_type": "display_data"
    }
   ],
   "source": [
    " _, ax = plt.subplots(2, sharex=True, figsize=(15,12))\n",
    "  \n",
    "\n",
    "df[df.people_id == 'Rost2'].plot(ax=ax[0], title='Rostic in stress',\n",
    "                            x=np.array(range(df[df.people_id == 'Rost2'].shape[0])),\n",
    "                            y=df.columns.drop('Mag_z', 'label'))\n",
    "df[df.people_id == 'Rost'].plot(ax=ax[1], title='Person in normal condition', \n",
    "                          x=np.array(range(df[df.people_id == 'Rost'].shape[0])),\n",
    "                          y=df.columns.drop('Mag_z', 'label'))"
   ]
  },
  {
   "cell_type": "markdown",
   "metadata": {
    "slideshow": {
     "slide_type": "-"
    }
   },
   "source": [
    "<img src=\"https://raw.github.com/Kichkun/smart_chair/master/Data_Analysis/pic/output_18_2.png\" width=\"550\" height=\"350\" />"
   ]
  },
  {
   "cell_type": "markdown",
   "metadata": {
    "colab_type": "text",
    "id": "Sz12DVztuq3a",
    "slideshow": {
     "slide_type": "slide"
    }
   },
   "source": [
    "### Visualization of  four conditions\n",
    "\n",
    " \n",
    "\n",
    "\n",
    "\n"
   ]
  },
  {
   "cell_type": "code",
   "execution_count": null,
   "metadata": {
    "colab": {
     "base_uri": "https://localhost:8080/",
     "height": 1422
    },
    "colab_type": "code",
    "id": "eAy3eubhkDFl",
    "outputId": "17548627-27c3-43f8-b72d-a1cafd5fb579",
    "slideshow": {
     "slide_type": "skip"
    }
   },
   "outputs": [],
   "source": [
    "\n",
    "_, axs = plt.subplots(6, sharex=True, figsize=(15,25))\n",
    "labels = ['Acc_x', 'Acc_y', 'Acc_z', 'Mag_x', 'Mag_y', 'Mag_z']\n",
    "arr_nervous = X_ass_norm.values[np.where(y_new_multi == 3)[0][0]]\n",
    "arr_class2 = X_ass_norm.values[np.where(y_new_multi == 2)[0][0]]\n",
    "arr_class1 = X_ass_norm.values[np.where(y_new_multi == 1)[0][0]]\n",
    "arr_patient = X_ass_norm.values[np.where(y_new_multi == 0)[0][0]]\n",
    "\n",
    "for i in range(axs.shape[0]):\n",
    "  axs[i].plot(arr_nervous[np.array(range(num_timestamp * i, num_timestamp * (i + 1)))], \"r-\", label='Person in stress')\n",
    "  axs[i].plot(arr_class2[np.array(range(num_timestamp * i, num_timestamp * (i + 1)))], \"b-\", label='Person in class 2')\n",
    "  axs[i].plot(arr_class1[np.array(range(num_timestamp * i, num_timestamp * (i + 1)))],\"y-\", label='Person in class 1')\n",
    "  axs[i].plot(arr_patient[np.array(range(num_timestamp * i, num_timestamp * (i + 1)))], \"g-\", label='Person in normal condition')\n",
    "  axs[i].set_title(labels[i])\n",
    "  \n",
    "  axs[i].legend()\n",
    "  "
   ]
  },
  {
   "cell_type": "markdown",
   "metadata": {
    "slideshow": {
     "slide_type": "-"
    }
   },
   "source": [
    "Data from magnetometer\n",
    "<img src=\"https://raw.github.com/Kichkun/smart_chair/master/Data_Analysis/pic/m.PNG\" width=\"650\" height=\"350\" />"
   ]
  },
  {
   "cell_type": "markdown",
   "metadata": {
    "slideshow": {
     "slide_type": "slide"
    }
   },
   "source": [
    "Data from accelerometer\n",
    "<img src=\"https://raw.github.com/Kichkun/smart_chair/master/Data_Analysis/pic/as.PNG\" width=\"750\" height=\"600\" />"
   ]
  },
  {
   "cell_type": "markdown",
   "metadata": {
    "colab_type": "text",
    "id": "5JydpvvR87Fo",
    "slideshow": {
     "slide_type": "slide"
    }
   },
   "source": [
    "### Visualisation of data relations"
   ]
  },
  {
   "cell_type": "code",
   "execution_count": null,
   "metadata": {
    "colab": {
     "base_uri": "https://localhost:8080/",
     "height": 357
    },
    "colab_type": "code",
    "id": "KYT0bdzBNZH8",
    "outputId": "85c882d3-666f-4025-abae-674f7e5b8a40",
    "slideshow": {
     "slide_type": "-"
    }
   },
   "outputs": [],
   "source": [
    "data_assembled = df.copy()\n",
    "data_assembled.label[(data_assembled.label>= 0) & (data_assembled.label <= 25)] = 0\n",
    "data_assembled.label[(data_assembled.label> 25) & (data_assembled.label <= 50)] = 1\n",
    "data_assembled.label[(data_assembled.label> 50) & (data_assembled.label <= 75)] = 2\n",
    "data_assembled.label[(data_assembled.label> 75) & (data_assembled.label <= 100)] = 3"
   ]
  },
  {
   "cell_type": "code",
   "execution_count": null,
   "metadata": {
    "colab": {
     "base_uri": "https://localhost:8080/",
     "height": 68
    },
    "colab_type": "code",
    "id": "miZ_wcNfYgfL",
    "outputId": "59371de3-77e0-463e-cf4a-cc78fd95f843",
    "slideshow": {
     "slide_type": "-"
    }
   },
   "outputs": [],
   "source": [
    "data_assembled.columns"
   ]
  },
  {
   "cell_type": "code",
   "execution_count": null,
   "metadata": {
    "colab": {
     "base_uri": "https://localhost:8080/",
     "height": 1302
    },
    "colab_type": "code",
    "id": "RMCiA-ex9nuW",
    "outputId": "f8917563-7120-424a-facb-22f2c52d0a68",
    "slideshow": {
     "slide_type": "skip"
    }
   },
   "outputs": [],
   "source": [
    "\n",
    "sns.pairplot(data_assembled.drop([\"people_id\"]), hue='label')\n"
   ]
  },
  {
   "cell_type": "markdown",
   "metadata": {
    "slideshow": {
     "slide_type": "slide"
    }
   },
   "source": [
    "sns.pairplot(data_assembled.drop([\"people_id\"]), hue='label')\n",
    "\n",
    "<img src=\"https://raw.github.com/Kichkun/smart_chair/master/Data_Analysis/pic/output_24_1.png\" width=\"650\" height=\"350\" />\n"
   ]
  },
  {
   "cell_type": "code",
   "execution_count": null,
   "metadata": {
    "colab": {},
    "colab_type": "code",
    "id": "RXJHurxsHYD_"
   },
   "outputs": [],
   "source": [
    "def plot_measurements_scatter(\n",
    "    df2analyse,\n",
    "    means_stds=None,\n",
    "    sensors_list=['Mag', 'Acc'],\n",
    "    coords_list = [['x', 'y'], ['x', 'z'], ['y', 'z']],\n",
    "    n_stds = 5\n",
    "):    \n",
    "    fig, ax = plt.subplots(len(sensors_list), len(coords_list))\n",
    "    fig.set_figheight(10)\n",
    "    fig.set_figwidth(20)\n",
    "\n",
    "    for n_row, sensor_type in enumerate(sensors_list):\n",
    "        for n_col, coord_names in enumerate(coords_list):\n",
    "            coord_name_1 = sensor_type + '_' + coord_names[0]\n",
    "            coord_name_2 = sensor_type + '_' + coord_names[1]\n",
    "\n",
    "            first_coord_data = df2analyse[coord_name_1].values\n",
    "            second_coord_data = df2analyse[coord_name_2].values\n",
    "\n",
    "            ax[n_row, n_col].scatter(first_coord_data, second_coord_data, alpha=0.2, s=7)\n",
    "            if means_stds is not None:\n",
    "              errors_ellipse = Ellipse(\n",
    "                  xy=means_stds.loc[[coord_name_1, coord_name_2], 'mean'].values,\n",
    "                  width=n_stds*means_stds.loc[coord_name_1, 'std'],\n",
    "                  height=n_stds*means_stds.loc[coord_name_2, 'std'],\n",
    "                  alpha=0.3,\n",
    "                  color='green',\n",
    "              )\n",
    "              ax[n_row, n_col].add_artist(errors_ellipse)\n",
    "            \n",
    "            title = sensor_type + ' ' + ', '.join(coord_names)\n",
    "            ax[n_row, n_col].set_title(title)"
   ]
  },
  {
   "cell_type": "markdown",
   "metadata": {
    "colab_type": "text",
    "id": "SKaBJEQ1ACci",
    "slideshow": {
     "slide_type": "slide"
    }
   },
   "source": [
    "### Visualisation of data distribution"
   ]
  },
  {
   "cell_type": "code",
   "execution_count": null,
   "metadata": {
    "colab": {
     "base_uri": "https://localhost:8080/",
     "height": 626
    },
    "colab_type": "code",
    "id": "RsffsTcJQa3z",
    "outputId": "d498ddd8-877f-432a-e82d-a70cb7565596",
    "slideshow": {
     "slide_type": "skip"
    }
   },
   "outputs": [],
   "source": [
    "mask = (df.label == 100)# & (df_2['label'] == 'work, talking, tired, angry')\n",
    "df2analyse = df.loc[mask, :]\n",
    "\n",
    "plot_measurements_scatter(df2analyse)"
   ]
  },
  {
   "cell_type": "markdown",
   "metadata": {
    "slideshow": {
     "slide_type": "-"
    }
   },
   "source": [
    "<img src=\"https://raw.github.com/Kichkun/smart_chair/master/Data_Analysis/pic/output_26_0.png\" width=\"850\" height=\"550\" />\n"
   ]
  },
  {
   "cell_type": "markdown",
   "metadata": {
    "colab_type": "text",
    "id": "48UVyMn_MJeX",
    "slideshow": {
     "slide_type": "slide"
    }
   },
   "source": [
    "# Classifier"
   ]
  },
  {
   "cell_type": "code",
   "execution_count": null,
   "metadata": {
    "colab": {},
    "colab_type": "code",
    "id": "shQY5H8AMMYX",
    "slideshow": {
     "slide_type": "slide"
    }
   },
   "outputs": [],
   "source": [
    "from sklearn.model_selection import cross_val_score, cross_val_predict, KFold\n",
    "from sklearn.linear_model import LogisticRegression\n",
    "from sklearn.metrics import classification_report\n",
    "import warnings\n",
    "from sklearn.exceptions import DataConversionWarning\n",
    "warnings.filterwarnings(action='ignore', category=DataConversionWarning) #to ignore not important warnings"
   ]
  },
  {
   "cell_type": "code",
   "execution_count": null,
   "metadata": {
    "colab": {},
    "colab_type": "code",
    "id": "R5BhvVeuMbdO",
    "slideshow": {
     "slide_type": "-"
    }
   },
   "outputs": [],
   "source": [
    "def validation_mine(clf, X, y, print_F = True, return_pred = False, cv=None):\n",
    "    if cv is None:\n",
    "      kfold = KFold(n_splits=5, shuffle=True, random_state=24) # 5-fold CV\n",
    "      cv = kfold.split(X, y) #  make the split\n",
    "    scores = cross_val_score(clf, X, y, scoring='accuracy', cv=cv)\n",
    "    y_pred = cross_val_predict(clf, X, y)\n",
    "    if print_F:\n",
    "        print('KFold score: {0:.3f} ± {1:.3f}'.format(scores.mean(), scores.std()) )\n",
    "        print(classification_report(y, y_pred))\n",
    "    if return_pred:\n",
    "        return scores, y_pred\n",
    "    else:\n",
    "        return scores"
   ]
  },
  {
   "cell_type": "code",
   "execution_count": null,
   "metadata": {
    "colab": {},
    "colab_type": "code",
    "id": "EtFcF20ml6oS",
    "slideshow": {
     "slide_type": "slide"
    }
   },
   "outputs": [],
   "source": [
    "from sklearn.metrics import make_scorer, accuracy_score, precision_score, recall_score, f1_score\n",
    "from sklearn.model_selection import cross_validate\n",
    "from sklearn.model_selection import LeaveOneOut\n",
    "from sklearn.model_selection import LeavePGroupsOut\n",
    "\n",
    "def custom_cross_validate(clf, X, y, print_F = True, return_pred = False, cv=None):\n",
    "  if cv is None:\n",
    "      kfold = KFold(n_splits=5, shuffle=True, random_state=24) # 5-fold CV\n",
    "      cv = kfold.split(X, y) #  make the split\n",
    "  scoring = ['accuracy', 'f1', 'precision', 'recall']\n",
    "  scores = cross_validate(clf, X, y, scoring=scoring, cv=cv)\n",
    "  y_pred = cross_val_predict(clf, X, y)\n",
    "  if print_F:\n",
    "      print('KFold score: {0:.3f} ± {1:.3f}'.format(scores.mean(), scores.std()) )\n",
    "      print(classification_report(y, y_pred))\n",
    "  if return_pred:\n",
    "      return scores, y_pred\n",
    "  else:\n",
    "      return scores\n",
    "  "
   ]
  },
  {
   "cell_type": "code",
   "execution_count": null,
   "metadata": {
    "colab": {
     "base_uri": "https://localhost:8080/",
     "height": 54
    },
    "colab_type": "code",
    "id": "GEjI7V6Pn9FA",
    "outputId": "b1c88d03-0c80-437d-c012-55a2cd7749fd",
    "slideshow": {
     "slide_type": "skip"
    }
   },
   "outputs": [],
   "source": [
    "print(custom_cross_validate(LogisticRegression(), X_ass_norm, y_new_4, print_F=False))"
   ]
  },
  {
   "cell_type": "markdown",
   "metadata": {
    "colab_type": "text",
    "id": "jdug1ILhT9C0",
    "slideshow": {
     "slide_type": "slide"
    }
   },
   "source": [
    "### For understanding quality of working LogisticRegression let's learn on every X data, and try to analyze the result\n",
    "\n",
    "*   X_ass_norm- normalized data without new features\n",
    "*   X _assembled - non normalized data without new features\n",
    "*   X_ass_add - non normalized data with new feature\n",
    "*   X_ass_add_norm - normalized data with new features\n",
    "\n"
   ]
  },
  {
   "cell_type": "code",
   "execution_count": null,
   "metadata": {
    "colab": {},
    "colab_type": "code",
    "id": "ONw0zw0DScuC",
    "slideshow": {
     "slide_type": "skip"
    }
   },
   "outputs": [],
   "source": [
    "X_ass_add_norm =minmax_scale(X_ass_add, copy=True, feature_range=(0, 1))"
   ]
  },
  {
   "cell_type": "code",
   "execution_count": null,
   "metadata": {
    "colab": {
     "base_uri": "https://localhost:8080/",
     "height": 782
    },
    "colab_type": "code",
    "id": "HkK3AVX9MgLH",
    "outputId": "2215a710-069e-4e6b-a31b-7261b6646857",
    "slideshow": {
     "slide_type": "slide"
    }
   },
   "outputs": [],
   "source": [
    "print(validation_mine(LogisticRegression(), X_ass_norm, y_new_4))\n",
    "print(validation_mine(LogisticRegression(), X_ass_add, y_new_4))\n"
   ]
  },
  {
   "cell_type": "code",
   "execution_count": null,
   "metadata": {
    "slideshow": {
     "slide_type": "slide"
    }
   },
   "outputs": [],
   "source": [
    "print(validation_mine(LogisticRegression(), df_features, y_new_4))\n",
    "print(validation_mine(LogisticRegression(), X_assembled, y_new_4))\n"
   ]
  },
  {
   "cell_type": "code",
   "execution_count": null,
   "metadata": {
    "slideshow": {
     "slide_type": "slide"
    }
   },
   "outputs": [],
   "source": [
    "print(validation_mine(LogisticRegression(), X_ass_add_norm, y_new_4))"
   ]
  },
  {
   "cell_type": "markdown",
   "metadata": {
    "colab_type": "text",
    "id": "cysEPjj1Ukt3",
    "slideshow": {
     "slide_type": "-"
    }
   },
   "source": [
    "Results: New features work not very good. But normalisation looks promising\n"
   ]
  },
  {
   "cell_type": "markdown",
   "metadata": {
    "colab_type": "text",
    "id": "YVAX9b2CUqyP",
    "slideshow": {
     "slide_type": "skip"
    }
   },
   "source": [
    "### Using normalized data with new features\n",
    "\n"
   ]
  },
  {
   "cell_type": "code",
   "execution_count": null,
   "metadata": {
    "colab": {
     "base_uri": "https://localhost:8080/",
     "height": 465
    },
    "colab_type": "code",
    "id": "hKouN69AgKws",
    "outputId": "9cbfc9ab-ba9d-4c73-cf77-81662d36fe63",
    "slideshow": {
     "slide_type": "skip"
    }
   },
   "outputs": [],
   "source": [
    "X_c = X_ass_add\n",
    "y_new_clean\n",
    "X_c = X_c.assign(Target =y_new_clean)\n",
    "X_c =minmax_scale(X_c, copy=True, feature_range=(0, 1))"
   ]
  },
  {
   "cell_type": "code",
   "execution_count": null,
   "metadata": {
    "colab": {},
    "colab_type": "code",
    "id": "-8l0lg15p_NK",
    "slideshow": {
     "slide_type": "skip"
    }
   },
   "outputs": [],
   "source": [
    "from sklearn import datasets\n",
    "from sklearn.multiclass import OneVsRestClassifier\n",
    "from sklearn.svm import LinearSVC\n",
    "from sklearn.cross_validation import train_test_split\n",
    "from sklearn.metrics import accuracy_score"
   ]
  },
  {
   "cell_type": "code",
   "execution_count": null,
   "metadata": {
    "colab": {
     "base_uri": "https://localhost:8080/",
     "height": 51
    },
    "colab_type": "code",
    "id": "6cPiK3vEwkeV",
    "outputId": "4f8ceec5-bf75-4760-a383-328d0a8bef69",
    "slideshow": {
     "slide_type": "slide"
    }
   },
   "outputs": [],
   "source": [
    "X_train, X_test, y_train, y_test = train_test_split(X_ass_norm, y_new_4, test_size = 0.5, random_state =42)\n",
    "clf = OneVsRestClassifier(LinearSVC(random_state=42)).fit(X_train, y_train)\n",
    "y_predicted = clf.predict(X_train) \n",
    "print('Accuracy of train is {}'.format(accuracy_score(y_train, y_predicted)))\n",
    "y_predicted = clf.predict(X_test) \n",
    "print('Accuracy of test is {}'.format(accuracy_score(y_test, y_predicted)))"
   ]
  },
  {
   "cell_type": "markdown",
   "metadata": {
    "colab_type": "text",
    "id": "wXnuO17UyTDi",
    "slideshow": {
     "slide_type": "skip"
    }
   },
   "source": [
    "Выглялит круто, но это не корректно. Давайте все-таки реализуем Leave one out"
   ]
  },
  {
   "cell_type": "code",
   "execution_count": null,
   "metadata": {},
   "outputs": [],
   "source": []
  },
  {
   "cell_type": "code",
   "execution_count": null,
   "metadata": {
    "colab": {
     "base_uri": "https://localhost:8080/",
     "height": 86
    },
    "colab_type": "code",
    "id": "79ubNdYsy7ee",
    "outputId": "a79a2b79-ab2d-4139-a00d-689fc280877e",
    "slideshow": {
     "slide_type": "skip"
    }
   },
   "outputs": [],
   "source": [
    "import random\n",
    "import numpy as np \n",
    "def live_one_out(X,y,y_label, n_people=1, ifrand = False, shuffle=True):\n",
    "  \n",
    "  labels = (np.unique(y))\n",
    "  \n",
    "  indxs = None\n",
    "  for i in range(n_people):\n",
    "    a = random.randint(0, labels.shape[0] - 1)\n",
    "    if indxs is not None:\n",
    "      indxs = np.concatenate([np.where(y == labels[a])[0], indxs])\n",
    "    else:\n",
    "      indxs = np.where(y == labels[a])[0]\n",
    "  y_test = np.zeros((indxs.shape[0] ,y_label.shape[1]))\n",
    "  X_test = np.zeros((indxs.shape[0] ,X.shape[1]))\n",
    "\n",
    "  for i in range(0, indxs.shape[0]):\n",
    "    y_test[i, :] = y_label[indxs[i], :]\n",
    "    X_test[i, :] = X[indxs[i], :]\n",
    "  \n",
    "    \n",
    "  if shuffle:\n",
    "    p = np.random.permutation(X_test.shape[0])\n",
    "  else:\n",
    "    p = np.array(range(X_test.shape[0]))\n",
    "  X_test = X_test[p, :]; \n",
    "  y_test = y_test[p, :];\n",
    "  \n",
    "  mask = np.ones(len(X), dtype=bool)\n",
    "  for i in range(0, X.shape[0]):\n",
    "    for j in range(0, indxs.shape[0]):\n",
    "      if i == indxs[j]:\n",
    "        mask[i]= 0\n",
    "  X_train = np.array((X[mask,...]))\n",
    "  for i in range(0, y.shape[0]):\n",
    "    for j in range(0, indxs.shape[0]):\n",
    "      if i == indxs[j]:\n",
    "        mask[i]= 0\n",
    "  y_train = np.array((y_label[mask,...]))\n",
    "  \n",
    "  if shuffle:\n",
    "    p = np.random.permutation(X_train.shape[0])\n",
    "  else:\n",
    "    p = np.array(range(X_train.shape[0]))\n",
    "  X_train = X_train[p, :]; \n",
    "  y_train = y_train[p, :];\n",
    "  return y_test, X_test, X_train, y_train\n",
    "\n",
    "y_test, X_test, X_train, y_train = live_one_out(X_ass_add_norm, y_new_clean, y_new_4.values, shuffle=True, n_people=1)\n",
    "print(X_train.shape)\n",
    "print(X_test.shape)\n",
    "print(y_test.shape)\n",
    "print(y_train.shape)"
   ]
  },
  {
   "cell_type": "code",
   "execution_count": null,
   "metadata": {
    "colab": {
     "base_uri": "https://localhost:8080/",
     "height": 191
    },
    "colab_type": "code",
    "id": "NoQk8MsQUZU7",
    "outputId": "669f77a8-908a-4aaf-9c17-66093755b62c",
    "slideshow": {
     "slide_type": "skip"
    }
   },
   "outputs": [],
   "source": [
    "for i in range(5):\n",
    "  y_test, X_test, X_train, y_train = live_one_out(X_ass_add_norm, y_new_clean,y_new_multi_4, n_people=1, shuffle=True)\n",
    "  clf = OneVsRestClassifier(LinearSVC(random_state=42)).fit(X_train, y_train)\n",
    "  y_predicted = clf.predict(X_train) \n",
    "  print('Accuracy of train is {}'.format(accuracy_score(y_train, y_predicted)))\n",
    "  y_predicted = clf.predict(X_test) \n",
    "  print('Accuracy of test is {}'.format(accuracy_score(y_test, y_predicted)))"
   ]
  },
  {
   "cell_type": "markdown",
   "metadata": {
    "colab_type": "text",
    "id": "FSXTLsZCw8-U",
    "slideshow": {
     "slide_type": "skip"
    }
   },
   "source": [
    "В некоторых ситуациях, получаем точность 0, а на некоторых значениях точность = 1. Это может говорить о том, что некоторые классы очень похожи друг на друга. "
   ]
  },
  {
   "cell_type": "code",
   "execution_count": null,
   "metadata": {
    "colab": {
     "base_uri": "https://localhost:8080/",
     "height": 191
    },
    "colab_type": "code",
    "id": "XUuo4MiJxYf_",
    "outputId": "f9ee2967-55dc-436e-e723-e9281c0fb208",
    "slideshow": {
     "slide_type": "skip"
    }
   },
   "outputs": [],
   "source": [
    "for i in range(5):\n",
    "  y_test, X_test, X_train, y_train = live_one_out(X_ass_add_norm, y_new_multi,y_new_multi, n_people=1, shuffle=True)\n",
    "  clf = OneVsRestClassifier(LinearSVC(random_state=42)).fit(X_train, y_train)\n",
    "  y_predicted = clf.predict(X_train) \n",
    "  print('Accuracy of train is {}'.format(accuracy_score(y_train, y_predicted)))\n",
    "  y_predicted = clf.predict(X_test) \n",
    "  print('Accuracy of test is {}'.format(accuracy_score(y_test, y_predicted)))"
   ]
  },
  {
   "cell_type": "code",
   "execution_count": null,
   "metadata": {
    "slideshow": {
     "slide_type": "skip"
    }
   },
   "outputs": [],
   "source": [
    "from sklearn.model_selection import LeaveOneGroupOut\n",
    "from sklearn.model_selection import LeaveOneOut"
   ]
  },
  {
   "cell_type": "code",
   "execution_count": null,
   "metadata": {
    "colab": {
     "base_uri": "https://localhost:8080/",
     "height": 52
    },
    "colab_type": "code",
    "id": "XC81jNEl3Hh7",
    "outputId": "8c6d9631-fe99-4f46-dbb9-023546888119",
    "slideshow": {
     "slide_type": "slide"
    }
   },
   "outputs": [],
   "source": [
    "logo = LeaveOneOut()\n",
    "uniq_columns = np.unique(y_new_clean)\n",
    "groups = y_new_clean.copy()\n",
    "acc_train = []\n",
    "acc_test = []\n",
    "for i in range(uniq_columns.shape[0]):\n",
    "  groups[y_new_clean == uniq_columns[i]] = i\n",
    "clf = OneVsRestClassifier(LinearSVC(random_state=42)).fit(X_train, y_train)\n",
    "for train_index, test_index in logo.split(X_ass_add_norm, y_new_multi_4, groups):\n",
    "  X_train, X_test = X_ass_add_norm[train_index], X_ass_add_norm[test_index]\n",
    "  y_train, y_test = y_new_multi_4[train_index], y_new_multi_4[test_index]\n",
    "  y_predicted = clf.predict(X_train) \n",
    "#  print('Accuracy of train is {}'.format(accuracy_score(y_train, y_predicted)))\n",
    "  acc_train.append(accuracy_score(y_train, y_predicted))\n",
    "  y_predicted = clf.predict(X_test) \n",
    "#  print('Accuracy of test is {}'.format(accuracy_score(y_test, y_predicted)))\n",
    "  acc_test.append(accuracy_score(y_test, y_predicted))\n",
    "print('Accuracy of train is {}+-{}'.format(np.mean(acc_train), np.std(acc_train)))\n",
    "print('Accuracy of test is {}+-{}'.format(np.mean(acc_test), np.std(acc_test)))\n",
    "\n"
   ]
  },
  {
   "cell_type": "markdown",
   "metadata": {
    "colab_type": "text",
    "id": "8VV_S-pWRobp",
    "slideshow": {
     "slide_type": "slide"
    }
   },
   "source": [
    "### Grid search"
   ]
  },
  {
   "cell_type": "code",
   "execution_count": null,
   "metadata": {
    "colab": {},
    "colab_type": "code",
    "id": "X2dvWNZ3RrJp",
    "slideshow": {
     "slide_type": "skip"
    }
   },
   "outputs": [],
   "source": [
    "# build a classifier\n",
    "from scipy.stats import randint as sp_randint\n",
    "from time import time\n",
    "from sklearn.model_selection import RandomizedSearchCV\n",
    "from sklearn.model_selection import GridSearchCV\n",
    "from sklearn.ensemble import RandomForestClassifier\n",
    "clf = RandomForestClassifier(n_estimators=36)"
   ]
  },
  {
   "cell_type": "code",
   "execution_count": null,
   "metadata": {
    "colab": {},
    "colab_type": "code",
    "id": "xcLMXepZSI_Q",
    "slideshow": {
     "slide_type": "skip"
    }
   },
   "outputs": [],
   "source": [
    "#Utility function to report best scores\n",
    "def report(results, n_top=3):\n",
    "    for i in range(1, n_top + 1):\n",
    "        candidates = np.flatnonzero(results['rank_test_score'] == i)\n",
    "        for candidate in candidates:\n",
    "            print(\"Model with rank: {0}\".format(i))\n",
    "            print(\"Mean validation score: {0:.3f} (std: {1:.3f})\".format(\n",
    "                  results['mean_test_score'][candidate],\n",
    "                  results['std_test_score'][candidate]))\n",
    "            print(\"Parameters: {0}\".format(results['params'][candidate]))\n",
    "            print(\"\")\n",
    "\n",
    "def do_grid_search(X, y ,arr_clf, arr_params,n_iter_search = 20):\n",
    "  # specify parameters and distributions to sample from\n",
    "  for i in range(arr_clf.__len__()):\n",
    "    param_dist = arr_params[i]\n",
    "    clf = arr_clf[i]\n",
    "\n",
    "    # run randomized search\n",
    "\n",
    "    random_search = RandomizedSearchCV(clf, param_distributions=param_dist,\n",
    "                                       n_iter=n_iter_search, cv=5)\n",
    "\n",
    "    start = time()\n",
    "    random_search.fit(X, y)\n",
    "    print(\"RandomizedSearchCV took %.2f seconds for %d candidates\"\n",
    "          \" parameter settings.\" % ((time() - start), n_iter_search))\n",
    "    report(random_search.cv_results_)"
   ]
  },
  {
   "cell_type": "code",
   "execution_count": null,
   "metadata": {
    "colab": {
     "base_uri": "https://localhost:8080/",
     "height": 238
    },
    "colab_type": "code",
    "id": "iHBxWi9SSjro",
    "outputId": "f32a8d2d-9a80-4576-a7d0-7862fd23c72f",
    "slideshow": {
     "slide_type": "slide"
    }
   },
   "outputs": [],
   "source": [
    "\n",
    "do_grid_search(X_ass_add_norm, y_new_multi_4,[RandomForestClassifier(n_estimators=36)], \n",
    "               [{\"max_depth\": [3, None],\n",
    "              \"max_features\": sp_randint(1, 11),\n",
    "              \"min_samples_split\": sp_randint(2, 11),\n",
    "              \"bootstrap\": [True, False],\n",
    "              \"criterion\": [\"gini\", \"entropy\"]}])\n"
   ]
  },
  {
   "cell_type": "markdown",
   "metadata": {
    "colab_type": "text",
    "id": "r53FGYvah7zF",
    "slideshow": {
     "slide_type": "-"
    }
   },
   "source": [
    "The best parameters for RandomForestClassifier are bootstrap: False, criterion: entropy, max_depth: None, max_features: 9, min_samples_split: 6"
   ]
  },
  {
   "cell_type": "code",
   "execution_count": null,
   "metadata": {
    "colab": {},
    "colab_type": "code",
    "id": "2KL_h4_zTyTr",
    "slideshow": {
     "slide_type": "skip"
    }
   },
   "outputs": [],
   "source": [
    "import sklearn.metrics\n",
    "from itertools import cycle\n",
    "from sklearn import svm\n",
    "from sklearn import metrics\n",
    "from sklearn.metrics import roc_curve, auc, confusion_matrix\n",
    "from scipy import interp\n",
    "from sklearn.model_selection import GridSearchCV\n",
    "\n",
    "def roc_curve_m(X, y, printF = True, returnF = False):\n",
    "    X_train, X_test, y_train, y_test = train_test_split(X, y, test_size = 0.5, random_state =42)\n",
    "    clf = OneVsRestClassifier(LogisticRegression()).fit(X_train, y_train)\n",
    "    probs = clf.predict_proba(X_test) \n",
    "    y_predicted = clf.predict(X_test)\n",
    "    preds = probs[:,1]\n",
    "    fpr, tpr, threshold = metrics.roc_curve(y_test, preds)\n",
    "    roc_auc = metrics.auc(fpr, tpr)\n",
    "    \n",
    "    if (printF):\n",
    "        print('Accuracy of test is {}'.format(accuracy_score(y_test, y_predicted)))\n",
    "        print(classification_report(y_test, y_predicted))\n",
    "        print(confusion_matrix(y_test, y_predicted))\n",
    "    if (returnF):\n",
    "        score = accuracy_score(y_test, y_predicted)\n",
    "        return fpr, tpr, roc_auc, score\n",
    "      "
   ]
  },
  {
   "cell_type": "code",
   "execution_count": null,
   "metadata": {
    "colab": {
     "base_uri": "https://localhost:8080/",
     "height": 311
    },
    "colab_type": "code",
    "id": "rPupqYe0dDyz",
    "outputId": "6913c92e-d080-471f-8899-bcef95f6d8be",
    "slideshow": {
     "slide_type": "slide"
    }
   },
   "outputs": [],
   "source": [
    "\n",
    "fpr, tpr, roc_auc, score = roc_curve_m(X_ass_add_norm, y_new_4, returnF=True, printF=False)\n",
    "plt.plot(fpr, tpr, label = ' '+'AUC = %0.2f' % roc_auc)\n",
    "plt.legend(loc = 'lower right')\n",
    "plt.title('Receiver Operating Characteristic')\n",
    "plt.plot([0, 1], [0, 1],'r--')\n",
    "plt.ylabel('True Positive Rate')\n",
    "plt.xlabel('False Positive Rate')"
   ]
  },
  {
   "cell_type": "markdown",
   "metadata": {
    "colab_type": "text",
    "id": "lPI6A4EFhixP",
    "slideshow": {
     "slide_type": "skip"
    }
   },
   "source": [
    "We can see in this graph that we obtain a very good ROC curve.  "
   ]
  },
  {
   "cell_type": "code",
   "execution_count": null,
   "metadata": {
    "colab": {
     "base_uri": "https://localhost:8080/",
     "height": 474
    },
    "colab_type": "code",
    "id": "36Y7ZRyQjyOe",
    "outputId": "6409d5f8-2efe-42cc-de8a-f5afa4e65e50",
    "slideshow": {
     "slide_type": "slide"
    }
   },
   "outputs": [],
   "source": [
    "fig, ax = plt.subplots(figsize = (4,3))\n",
    "scores = []\n",
    "AUC = [] \n",
    "for i in range(0, y_new_multi_4.shape[1]):\n",
    "    fpr, tpr, roc_auc, score = roc_curve_m(X_ass_add_norm, y_new_multi_4[:,i], returnF=True, printF=False)\n",
    "    scores.append(score)\n",
    "    AUC.append(roc_auc)\n",
    "    plt.plot(fpr, tpr, label = str(i)+' '+'AUC = %0.2f' % roc_auc)\n",
    "plt.legend(loc = 'lower right')\n",
    "plt.title('Receiver Operating Characteristic')\n",
    "plt.plot([0, 1], [0, 1],'r--')\n",
    "plt.ylabel('True Positive Rate')\n",
    "plt.xlabel('False Positive Rate')"
   ]
  },
  {
   "cell_type": "markdown",
   "metadata": {
    "slideshow": {
     "slide_type": "slide"
    }
   },
   "source": [
    "# Conclusion\n",
    "The model successfully solved the standed problem. However, we understand thar recieved quality is not so good. We have very low number of data and very fast overfitting. Leave one out is partly solve the problem but anyway we recieve the too good results: 0.968+-0.17\n",
    "However, I believe that our suggested approach is applicable for our problem statement. The neccessary improvement is collecting more data. Our results is also could be implemented as a web-application"
   ]
  },
  {
   "cell_type": "markdown",
   "metadata": {
    "slideshow": {
     "slide_type": "slide"
    }
   },
   "source": [
    "## Future plan\n",
    "More experiments\n",
    "\n",
    "More sensors (e.g. gyroscope for perception)\n",
    "\n",
    "Web-interface for personalized results\n",
    "\n",
    "<div> \n",
    "<img src=\"https://raw.github.com/Kichkun/smart_chair/master/Data_Analysis/pic/4-Levels-of-Stress-584x360.jpg\" height=\"50\" /> \n",
    "</div>"
   ]
  }
 ],
 "metadata": {
  "celltoolbar": "Slideshow",
  "colab": {
   "collapsed_sections": [],
   "name": "D.ipynb",
   "provenance": [],
   "version": "0.3.2"
  },
  "kernelspec": {
   "display_name": "Python 3",
   "language": "python",
   "name": "python3"
  },
  "language_info": {
   "codemirror_mode": {
    "name": "ipython",
    "version": 3
   },
   "file_extension": ".py",
   "mimetype": "text/x-python",
   "name": "python",
   "nbconvert_exporter": "python",
   "pygments_lexer": "ipython3",
   "version": "3.6.5"
  }
 },
 "nbformat": 4,
 "nbformat_minor": 1
}
